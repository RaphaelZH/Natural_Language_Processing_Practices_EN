{
 "cells": [
  {
   "cell_type": "markdown",
   "metadata": {
    "toc": true
   },
   "source": [
    "<h1>Table of Contents<span class=\"tocSkip\"></span></h1>\n",
    "<div class=\"toc\"><ul class=\"toc-item\"><li><span><a href=\"#spaCy-basics\" data-toc-modified-id=\"spaCy-basics-1\"><span class=\"toc-item-num\">1&nbsp;&nbsp;</span>spaCy basics</a></span><ul class=\"toc-item\"><li><span><a href=\"#Installation-and-setup\" data-toc-modified-id=\"Installation-and-setup-1.1\"><span class=\"toc-item-num\">1.1&nbsp;&nbsp;</span>Installation and setup</a></span><ul class=\"toc-item\"><li><span><a href=\"#From-the-command-line-or-terminal\" data-toc-modified-id=\"From-the-command-line-or-terminal-1.1.1\"><span class=\"toc-item-num\">1.1.1&nbsp;&nbsp;</span>From the command line or terminal</a></span></li><li><span><a href=\"#Alternatively,-create-a-virtual-environment\" data-toc-modified-id=\"Alternatively,-create-a-virtual-environment-1.1.2\"><span class=\"toc-item-num\">1.1.2&nbsp;&nbsp;</span>Alternatively, create a virtual environment</a></span></li><li><span><a href=\"#Next,-download-the-specific-model-of-language\" data-toc-modified-id=\"Next,-download-the-specific-model-of-language-1.1.3\"><span class=\"toc-item-num\">1.1.3&nbsp;&nbsp;</span>Next, download the specific model of language</a></span></li></ul></li><li><span><a href=\"#Working-with-spaCy-in-Python\" data-toc-modified-id=\"Working-with-spaCy-in-Python-1.2\"><span class=\"toc-item-num\">1.2&nbsp;&nbsp;</span>Working with spaCy in Python</a></span></li><li><span><a href=\"#spaCy-objects\" data-toc-modified-id=\"spaCy-objects-1.3\"><span class=\"toc-item-num\">1.3&nbsp;&nbsp;</span>spaCy objects</a></span><ul class=\"toc-item\"><li><span><a href=\"#Pipeline\" data-toc-modified-id=\"Pipeline-1.3.1\"><span class=\"toc-item-num\">1.3.1&nbsp;&nbsp;</span>Pipeline</a></span></li><li><span><a href=\"#Tokenization\" data-toc-modified-id=\"Tokenization-1.3.2\"><span class=\"toc-item-num\">1.3.2&nbsp;&nbsp;</span>Tokenization</a></span></li><li><span><a href=\"#Part-of-speech-tagging-(POS)\" data-toc-modified-id=\"Part-of-speech-tagging-(POS)-1.3.3\"><span class=\"toc-item-num\">1.3.3&nbsp;&nbsp;</span>Part-of-speech tagging (POS)</a></span></li><li><span><a href=\"#Dependencies\" data-toc-modified-id=\"Dependencies-1.3.4\"><span class=\"toc-item-num\">1.3.4&nbsp;&nbsp;</span>Dependencies</a></span></li><li><span><a href=\"#Additional-token-attributes\" data-toc-modified-id=\"Additional-token-attributes-1.3.5\"><span class=\"toc-item-num\">1.3.5&nbsp;&nbsp;</span>Additional token attributes</a></span></li><li><span><a href=\"#Spans\" data-toc-modified-id=\"Spans-1.3.6\"><span class=\"toc-item-num\">1.3.6&nbsp;&nbsp;</span>Spans</a></span></li><li><span><a href=\"#Sentences\" data-toc-modified-id=\"Sentences-1.3.7\"><span class=\"toc-item-num\">1.3.7&nbsp;&nbsp;</span>Sentences</a></span></li></ul></li></ul></li><li><span><a href=\"#Tokenization\" data-toc-modified-id=\"Tokenization-2\"><span class=\"toc-item-num\">2&nbsp;&nbsp;</span>Tokenization</a></span><ul class=\"toc-item\"><li><span><a href=\"#Prefixes,-suffixes,-and-infixes\" data-toc-modified-id=\"Prefixes,-suffixes,-and-infixes-2.1\"><span class=\"toc-item-num\">2.1&nbsp;&nbsp;</span>Prefixes, suffixes, and infixes</a></span></li><li><span><a href=\"#Exceptions\" data-toc-modified-id=\"Exceptions-2.2\"><span class=\"toc-item-num\">2.2&nbsp;&nbsp;</span>Exceptions</a></span></li><li><span><a href=\"#Counting-tokens\" data-toc-modified-id=\"Counting-tokens-2.3\"><span class=\"toc-item-num\">2.3&nbsp;&nbsp;</span>Counting tokens</a></span></li><li><span><a href=\"#Counting-vocab-entries\" data-toc-modified-id=\"Counting-vocab-entries-2.4\"><span class=\"toc-item-num\">2.4&nbsp;&nbsp;</span>Counting vocab entries</a></span></li><li><span><a href=\"#Tokens-can-be-retrieved-by-index-position-and-slice\" data-toc-modified-id=\"Tokens-can-be-retrieved-by-index-position-and-slice-2.5\"><span class=\"toc-item-num\">2.5&nbsp;&nbsp;</span>Tokens can be retrieved by index position and slice</a></span></li><li><span><a href=\"#Tokens-cannot-be-reassigned\" data-toc-modified-id=\"Tokens-cannot-be-reassigned-2.6\"><span class=\"toc-item-num\">2.6&nbsp;&nbsp;</span>Tokens cannot be reassigned</a></span></li><li><span><a href=\"#Named-entities\" data-toc-modified-id=\"Named-entities-2.7\"><span class=\"toc-item-num\">2.7&nbsp;&nbsp;</span>Named entities</a></span></li><li><span><a href=\"#Noun-chunks\" data-toc-modified-id=\"Noun-chunks-2.8\"><span class=\"toc-item-num\">2.8&nbsp;&nbsp;</span>Noun chunks</a></span></li></ul></li></ul></div>"
   ]
  },
  {
   "cell_type": "markdown",
   "metadata": {},
   "source": [
    "# spaCy basics\n",
    "\n",
    "* For more info, visit: https://spacy.io"
   ]
  },
  {
   "cell_type": "markdown",
   "metadata": {},
   "source": [
    "## Installation and setup\n",
    "\n",
    "* For more info, visit: https://spacy.io/usage"
   ]
  },
  {
   "cell_type": "markdown",
   "metadata": {},
   "source": [
    "### From the command line or terminal\n",
    "\n",
    "> `conda install -c conda-forge spacy`\n",
    "> \n",
    "> or\n",
    "> \n",
    "> `pip install -U spacy`"
   ]
  },
  {
   "cell_type": "markdown",
   "metadata": {},
   "source": [
    "### Alternatively, create a virtual environment\n",
    "\n",
    "> `conda create -n spacyenv python spacy`"
   ]
  },
  {
   "cell_type": "markdown",
   "metadata": {},
   "source": [
    "### Next, download the specific model of language\n",
    "\n",
    "> `python -m spacy download en_core_web_sm`"
   ]
  },
  {
   "cell_type": "markdown",
   "metadata": {},
   "source": [
    "## Working with spaCy in Python"
   ]
  },
  {
   "cell_type": "code",
   "execution_count": 1,
   "metadata": {
    "ExecuteTime": {
     "end_time": "2021-06-12T19:38:10.598129Z",
     "start_time": "2021-06-12T19:37:51.970335Z"
    }
   },
   "outputs": [
    {
     "name": "stdout",
     "output_type": "stream",
     "text": [
      "     Tesla        96\n",
      "        is        87\n",
      "   looking       100\n",
      "        at        85\n",
      "    buying       100\n",
      "         a        90\n",
      "      U.S.        96\n",
      "   startup        92\n",
      "       for        85\n",
      "         $        99\n",
      "         6        93\n",
      "   million        93\n",
      "         .        97\n"
     ]
    }
   ],
   "source": [
    "# Import spaCy and load the language library\n",
    "import spacy\n",
    "\n",
    "nlp = spacy.load('en_core_web_sm')\n",
    "\n",
    "# Create a Doc object\n",
    "doc_1 = nlp(u'Tesla is looking at buying a U.S. startup for $6 million.')\n",
    "\n",
    "row_format = \"{:>10}\" * 2\n",
    "# Print each token separately\n",
    "for token in doc_1:\n",
    "    print(row_format.format(token.text, token.pos))"
   ]
  },
  {
   "cell_type": "code",
   "execution_count": 2,
   "metadata": {
    "ExecuteTime": {
     "end_time": "2021-06-12T19:38:10.618449Z",
     "start_time": "2021-06-12T19:38:10.610115Z"
    }
   },
   "outputs": [
    {
     "name": "stdout",
     "output_type": "stream",
     "text": [
      "     Tesla     PROPN     nsubj\n",
      "        is       AUX       aux\n",
      "   looking      VERB      ROOT\n",
      "        at       ADP      prep\n",
      "    buying      VERB     pcomp\n",
      "         a       DET       det\n",
      "      U.S.     PROPN  compound\n",
      "   startup      NOUN      dobj\n",
      "       for       ADP      prep\n",
      "         $       SYM  quantmod\n",
      "         6       NUM  compound\n",
      "   million       NUM      pobj\n",
      "         .     PUNCT     punct\n"
     ]
    }
   ],
   "source": [
    "row_format = \"{:>10}\" * 3\n",
    "for token in doc_1:\n",
    "    print(row_format.format(token.text, token.pos_, token.dep_))"
   ]
  },
  {
   "cell_type": "markdown",
   "metadata": {},
   "source": [
    "## spaCy objects"
   ]
  },
  {
   "cell_type": "markdown",
   "metadata": {},
   "source": [
    "### Pipeline\n",
    "\n",
    "* Image source: https://spacy.io/usage/spacy-101#pipelines\n",
    "\n",
    "![Pipeline](../Figures/1.%20Pipeline.png)"
   ]
  },
  {
   "cell_type": "code",
   "execution_count": 3,
   "metadata": {
    "ExecuteTime": {
     "end_time": "2021-06-12T19:38:10.683240Z",
     "start_time": "2021-06-12T19:38:10.652614Z"
    }
   },
   "outputs": [
    {
     "data": {
      "text/plain": [
       "[('tok2vec', <spacy.pipeline.tok2vec.Tok2Vec at 0x7fe1b80dbad0>),\n",
       " ('tagger', <spacy.pipeline.tagger.Tagger at 0x7fe1b80ef170>),\n",
       " ('parser', <spacy.pipeline.dep_parser.DependencyParser at 0x7fe1b80ca130>),\n",
       " ('ner', <spacy.pipeline.ner.EntityRecognizer at 0x7fe1b80ca280>),\n",
       " ('attribute_ruler',\n",
       "  <spacy.pipeline.attributeruler.AttributeRuler at 0x7fe1b79f6050>),\n",
       " ('lemmatizer',\n",
       "  <spacy.lang.en.lemmatizer.EnglishLemmatizer at 0x7fe1b8135a50>)]"
      ]
     },
     "execution_count": 3,
     "metadata": {},
     "output_type": "execute_result"
    }
   ],
   "source": [
    "nlp.pipeline"
   ]
  },
  {
   "cell_type": "code",
   "execution_count": 4,
   "metadata": {
    "ExecuteTime": {
     "end_time": "2021-06-12T19:38:10.728133Z",
     "start_time": "2021-06-12T19:38:10.713539Z"
    },
    "scrolled": true
   },
   "outputs": [
    {
     "data": {
      "text/plain": [
       "['tok2vec', 'tagger', 'parser', 'ner', 'attribute_ruler', 'lemmatizer']"
      ]
     },
     "execution_count": 4,
     "metadata": {},
     "output_type": "execute_result"
    }
   ],
   "source": [
    "nlp.pipe_names"
   ]
  },
  {
   "cell_type": "markdown",
   "metadata": {},
   "source": [
    "### Tokenization"
   ]
  },
  {
   "cell_type": "code",
   "execution_count": 5,
   "metadata": {
    "ExecuteTime": {
     "end_time": "2021-06-12T19:38:10.764034Z",
     "start_time": "2021-06-12T19:38:10.736833Z"
    }
   },
   "outputs": [
    {
     "name": "stdout",
     "output_type": "stream",
     "text": [
      "     Tesla     PROPN     nsubj\n",
      "        is       AUX       aux\n",
      "       n't      PART       neg\n",
      "   looking      VERB      ROOT\n",
      "      into       ADP      prep\n",
      "  startups      NOUN      pobj\n",
      "   anymore       ADV    advmod\n",
      "         .     PUNCT     punct\n"
     ]
    }
   ],
   "source": [
    "doc_2 = nlp(u\"Tesla isn't looking into startups anymore.\")\n",
    "\n",
    "row_format = \"{:>10}\" * 3\n",
    "for token in doc_2:\n",
    "    print(row_format.format(token.text, token.pos_, token.dep_))"
   ]
  },
  {
   "cell_type": "code",
   "execution_count": 6,
   "metadata": {
    "ExecuteTime": {
     "end_time": "2021-06-12T19:38:10.806069Z",
     "start_time": "2021-06-12T19:38:10.767709Z"
    }
   },
   "outputs": [
    {
     "name": "stdout",
     "output_type": "stream",
     "text": [
      "     Tesla     PROPN     nsubj\n",
      "        is       AUX       aux\n",
      "       n't      PART       neg\n",
      "               SPACE     nsubj\n",
      "   looking      VERB      ROOT\n",
      "      into       ADP      prep\n",
      "  startups      NOUN      pobj\n",
      "   anymore       ADV    advmod\n",
      "         .     PUNCT     punct\n"
     ]
    }
   ],
   "source": [
    "doc_2 = nlp(u\"Tesla isn't   looking into startups anymore.\")\n",
    "\n",
    "row_format = \"{:>10}\" * 3\n",
    "for token in doc_2:\n",
    "    print(row_format.format(token.text, token.pos_, token.dep_))"
   ]
  },
  {
   "cell_type": "code",
   "execution_count": 7,
   "metadata": {
    "ExecuteTime": {
     "end_time": "2021-06-12T19:38:10.853335Z",
     "start_time": "2021-06-12T19:38:10.831428Z"
    }
   },
   "outputs": [
    {
     "data": {
      "text/plain": [
       "Tesla isn't   looking into startups anymore."
      ]
     },
     "execution_count": 7,
     "metadata": {},
     "output_type": "execute_result"
    }
   ],
   "source": [
    "doc_2"
   ]
  },
  {
   "cell_type": "code",
   "execution_count": 8,
   "metadata": {
    "ExecuteTime": {
     "end_time": "2021-06-12T19:38:10.952197Z",
     "start_time": "2021-06-12T19:38:10.932696Z"
    }
   },
   "outputs": [
    {
     "data": {
      "text/plain": [
       "spacy.tokens.doc.Doc"
      ]
     },
     "execution_count": 8,
     "metadata": {},
     "output_type": "execute_result"
    }
   ],
   "source": [
    "type(doc_2)"
   ]
  },
  {
   "cell_type": "code",
   "execution_count": 9,
   "metadata": {
    "ExecuteTime": {
     "end_time": "2021-06-12T19:38:10.975891Z",
     "start_time": "2021-06-12T19:38:10.968561Z"
    }
   },
   "outputs": [
    {
     "data": {
      "text/plain": [
       "Tesla"
      ]
     },
     "execution_count": 9,
     "metadata": {},
     "output_type": "execute_result"
    }
   ],
   "source": [
    "doc_2[0]"
   ]
  },
  {
   "cell_type": "code",
   "execution_count": 10,
   "metadata": {
    "ExecuteTime": {
     "end_time": "2021-06-12T19:38:11.010609Z",
     "start_time": "2021-06-12T19:38:10.985854Z"
    }
   },
   "outputs": [
    {
     "data": {
      "text/plain": [
       "'Tesla'"
      ]
     },
     "execution_count": 10,
     "metadata": {},
     "output_type": "execute_result"
    }
   ],
   "source": [
    "doc_2[0].text"
   ]
  },
  {
   "cell_type": "markdown",
   "metadata": {},
   "source": [
    "### Part-of-speech tagging (POS)\n",
    "\n",
    "* For more info, visit: https://spacy.io/usage/linguistic-features#pos-tagging"
   ]
  },
  {
   "cell_type": "code",
   "execution_count": 11,
   "metadata": {
    "ExecuteTime": {
     "end_time": "2021-06-12T19:38:11.021918Z",
     "start_time": "2021-06-12T19:38:11.015057Z"
    }
   },
   "outputs": [
    {
     "data": {
      "text/plain": [
       "'PROPN'"
      ]
     },
     "execution_count": 11,
     "metadata": {},
     "output_type": "execute_result"
    }
   ],
   "source": [
    "doc_2[0].pos_"
   ]
  },
  {
   "cell_type": "code",
   "execution_count": 12,
   "metadata": {
    "ExecuteTime": {
     "end_time": "2021-06-12T19:38:11.045171Z",
     "start_time": "2021-06-12T19:38:11.025891Z"
    }
   },
   "outputs": [
    {
     "data": {
      "text/plain": [
       "'proper noun'"
      ]
     },
     "execution_count": 12,
     "metadata": {},
     "output_type": "execute_result"
    }
   ],
   "source": [
    "spacy.explain('PROPN')"
   ]
  },
  {
   "cell_type": "markdown",
   "metadata": {},
   "source": [
    "### Dependencies\n",
    "\n",
    "* For more info, visit: https://spacy.io/usage/linguistic-features#dependency-parse\n",
    "\n",
    "* [Here](https://downloads.cs.stanford.edu/nlp/software/dependencies_manual.pdf), there is a good explanation of typed dependencies."
   ]
  },
  {
   "cell_type": "code",
   "execution_count": 13,
   "metadata": {
    "ExecuteTime": {
     "end_time": "2021-06-12T19:38:11.076650Z",
     "start_time": "2021-06-12T19:38:11.058658Z"
    }
   },
   "outputs": [
    {
     "data": {
      "text/plain": [
       "'nsubj'"
      ]
     },
     "execution_count": 13,
     "metadata": {},
     "output_type": "execute_result"
    }
   ],
   "source": [
    "doc_2[0].dep_"
   ]
  },
  {
   "cell_type": "code",
   "execution_count": 14,
   "metadata": {
    "ExecuteTime": {
     "end_time": "2021-06-12T19:38:11.104140Z",
     "start_time": "2021-06-12T19:38:11.088676Z"
    }
   },
   "outputs": [
    {
     "data": {
      "text/plain": [
       "'nominal subject'"
      ]
     },
     "execution_count": 14,
     "metadata": {},
     "output_type": "execute_result"
    }
   ],
   "source": [
    "spacy.explain('nsubj')"
   ]
  },
  {
   "cell_type": "markdown",
   "metadata": {},
   "source": [
    "### Additional token attributes\n",
    "\n",
    "![Additional token attributes](../Figures/2.%20Additional%20token%20attributes.png)"
   ]
  },
  {
   "cell_type": "code",
   "execution_count": 15,
   "metadata": {
    "ExecuteTime": {
     "end_time": "2021-06-12T19:38:11.123706Z",
     "start_time": "2021-06-12T19:38:11.116025Z"
    }
   },
   "outputs": [
    {
     "name": "stdout",
     "output_type": "stream",
     "text": [
      "Tesla\n",
      "Tesla\n"
     ]
    }
   ],
   "source": [
    "# Lemmas (the base form of the word)\n",
    "print(doc_2[0].text)\n",
    "print(doc_2[0].lemma_)"
   ]
  },
  {
   "cell_type": "code",
   "execution_count": 16,
   "metadata": {
    "ExecuteTime": {
     "end_time": "2021-06-12T19:38:11.147778Z",
     "start_time": "2021-06-12T19:38:11.132316Z"
    }
   },
   "outputs": [
    {
     "name": "stdout",
     "output_type": "stream",
     "text": [
      "looking\n",
      "look\n"
     ]
    }
   ],
   "source": [
    "print(doc_2[4].text)\n",
    "print(doc_2[4].lemma_)"
   ]
  },
  {
   "cell_type": "code",
   "execution_count": 17,
   "metadata": {
    "ExecuteTime": {
     "end_time": "2021-06-12T19:38:11.171798Z",
     "start_time": "2021-06-12T19:38:11.163522Z"
    }
   },
   "outputs": [
    {
     "name": "stdout",
     "output_type": "stream",
     "text": [
      "PROPN / proper noun\n",
      "NNP / noun, proper singular\n"
     ]
    }
   ],
   "source": [
    "# Simple parts-of-speech & detailed tags\n",
    "print(doc_2[0].pos_ + ' / ' + spacy.explain(doc_2[0].pos_))\n",
    "print(doc_2[0].tag_ + ' / ' + spacy.explain(doc_2[0].tag_))"
   ]
  },
  {
   "cell_type": "code",
   "execution_count": 18,
   "metadata": {
    "ExecuteTime": {
     "end_time": "2021-06-12T19:38:11.189015Z",
     "start_time": "2021-06-12T19:38:11.177288Z"
    }
   },
   "outputs": [
    {
     "name": "stdout",
     "output_type": "stream",
     "text": [
      "VERB / verb\n",
      "VBG  / verb, gerund or present participle\n"
     ]
    }
   ],
   "source": [
    "print(doc_2[4].pos_ + ' / ' + spacy.explain(doc_2[4].pos_))\n",
    "print(doc_2[4].tag_ + '  / ' + spacy.explain(doc_2[4].tag_))"
   ]
  },
  {
   "cell_type": "code",
   "execution_count": 19,
   "metadata": {
    "ExecuteTime": {
     "end_time": "2021-06-12T19:38:11.204375Z",
     "start_time": "2021-06-12T19:38:11.195005Z"
    }
   },
   "outputs": [
    {
     "name": "stdout",
     "output_type": "stream",
     "text": [
      "Tesla: Xxxxx\n",
      "U.S. : x\n"
     ]
    }
   ],
   "source": [
    "# Word shapes\n",
    "print(doc_2[0].text + ': ' + doc_2[0].shape_)\n",
    "print(doc_1[6].text + ' : ' + doc_1[5].shape_)"
   ]
  },
  {
   "cell_type": "code",
   "execution_count": 20,
   "metadata": {
    "ExecuteTime": {
     "end_time": "2021-06-12T19:38:11.220089Z",
     "start_time": "2021-06-12T19:38:11.211242Z"
    }
   },
   "outputs": [
    {
     "name": "stdout",
     "output_type": "stream",
     "text": [
      "True\n",
      "False\n"
     ]
    }
   ],
   "source": [
    "# Boolean values\n",
    "print(doc_2[0].is_alpha)\n",
    "print(doc_2[0].is_stop)"
   ]
  },
  {
   "cell_type": "markdown",
   "metadata": {},
   "source": [
    "### Spans"
   ]
  },
  {
   "cell_type": "code",
   "execution_count": 21,
   "metadata": {
    "ExecuteTime": {
     "end_time": "2021-06-12T19:38:11.284592Z",
     "start_time": "2021-06-12T19:38:11.227167Z"
    }
   },
   "outputs": [
    {
     "name": "stdout",
     "output_type": "stream",
     "text": [
      "\"Life is what happens to us while we are making other plans\"\n"
     ]
    }
   ],
   "source": [
    "doc_3 = nlp(\n",
    "    u'Although commonly attributed to John Lennon from his song \"Beautiful Boy\", \\\n",
    "    the phrase \"Life is what happens to us while we are making other plans\" \\\n",
    "    was written by cartoonist Allen Saunders and published in Reader\\'s Digest \\\n",
    "    in 1957 when Lennon was 17.'\n",
    ")\n",
    "\n",
    "life_quote = doc_3[17:31]\n",
    "print(life_quote)"
   ]
  },
  {
   "cell_type": "code",
   "execution_count": 22,
   "metadata": {
    "ExecuteTime": {
     "end_time": "2021-06-12T19:38:11.309065Z",
     "start_time": "2021-06-12T19:38:11.296534Z"
    }
   },
   "outputs": [
    {
     "data": {
      "text/plain": [
       "spacy.tokens.span.Span"
      ]
     },
     "execution_count": 22,
     "metadata": {},
     "output_type": "execute_result"
    }
   ],
   "source": [
    "type(life_quote)"
   ]
  },
  {
   "cell_type": "code",
   "execution_count": 23,
   "metadata": {
    "ExecuteTime": {
     "end_time": "2021-06-12T19:38:11.382404Z",
     "start_time": "2021-06-12T19:38:11.370727Z"
    }
   },
   "outputs": [
    {
     "data": {
      "text/plain": [
       "spacy.tokens.doc.Doc"
      ]
     },
     "execution_count": 23,
     "metadata": {},
     "output_type": "execute_result"
    }
   ],
   "source": [
    "type(doc_3)"
   ]
  },
  {
   "cell_type": "markdown",
   "metadata": {},
   "source": [
    "### Sentences"
   ]
  },
  {
   "cell_type": "code",
   "execution_count": 24,
   "metadata": {
    "ExecuteTime": {
     "end_time": "2021-06-12T19:38:11.516201Z",
     "start_time": "2021-06-12T19:38:11.492508Z"
    }
   },
   "outputs": [
    {
     "name": "stdout",
     "output_type": "stream",
     "text": [
      "This is the first sentence.\n",
      "This is another sentence.\n",
      "This is the last sentence.\n"
     ]
    }
   ],
   "source": [
    "doc_4 = nlp(\n",
    "    u'This is the first sentence. This is another sentence. This is the last sentence.'\n",
    ")\n",
    "\n",
    "for sent in doc_4.sents:\n",
    "    print(sent)"
   ]
  },
  {
   "cell_type": "code",
   "execution_count": 25,
   "metadata": {
    "ExecuteTime": {
     "end_time": "2021-06-12T19:38:11.634448Z",
     "start_time": "2021-06-12T19:38:11.617002Z"
    }
   },
   "outputs": [
    {
     "data": {
      "text/plain": [
       "This"
      ]
     },
     "execution_count": 25,
     "metadata": {},
     "output_type": "execute_result"
    }
   ],
   "source": [
    "doc_4[6]"
   ]
  },
  {
   "cell_type": "code",
   "execution_count": 26,
   "metadata": {
    "ExecuteTime": {
     "end_time": "2021-06-12T19:38:11.750206Z",
     "start_time": "2021-06-12T19:38:11.735974Z"
    }
   },
   "outputs": [
    {
     "data": {
      "text/plain": [
       "True"
      ]
     },
     "execution_count": 26,
     "metadata": {},
     "output_type": "execute_result"
    }
   ],
   "source": [
    "doc_4[6].is_sent_start"
   ]
  },
  {
   "cell_type": "code",
   "execution_count": 27,
   "metadata": {
    "ExecuteTime": {
     "end_time": "2021-06-12T19:38:11.841999Z",
     "start_time": "2021-06-12T19:38:11.825167Z"
    }
   },
   "outputs": [
    {
     "data": {
      "text/plain": [
       "another"
      ]
     },
     "execution_count": 27,
     "metadata": {},
     "output_type": "execute_result"
    }
   ],
   "source": [
    "doc_4[8]"
   ]
  },
  {
   "cell_type": "code",
   "execution_count": 28,
   "metadata": {
    "ExecuteTime": {
     "end_time": "2021-06-12T19:38:11.947974Z",
     "start_time": "2021-06-12T19:38:11.936385Z"
    }
   },
   "outputs": [
    {
     "data": {
      "text/plain": [
       "False"
      ]
     },
     "execution_count": 28,
     "metadata": {},
     "output_type": "execute_result"
    }
   ],
   "source": [
    "doc_4[8].is_sent_start"
   ]
  },
  {
   "cell_type": "markdown",
   "metadata": {},
   "source": [
    "# Tokenization\n",
    "\n",
    "* Image source: https://spacy.io/usage/spacy-101#annotations-token\n",
    "\n",
    "![Tokenization](../Figures/3.%20Tokenization.png)"
   ]
  },
  {
   "cell_type": "code",
   "execution_count": 29,
   "metadata": {
    "ExecuteTime": {
     "end_time": "2021-06-12T19:38:15.366002Z",
     "start_time": "2021-06-12T19:38:13.718609Z"
    }
   },
   "outputs": [],
   "source": [
    "# Import spaCy and load the language library\n",
    "import spacy\n",
    "\n",
    "nlp = spacy.load('en_core_web_sm')"
   ]
  },
  {
   "cell_type": "code",
   "execution_count": 30,
   "metadata": {
    "ExecuteTime": {
     "end_time": "2021-06-12T19:38:15.375861Z",
     "start_time": "2021-06-12T19:38:15.370641Z"
    }
   },
   "outputs": [
    {
     "name": "stdout",
     "output_type": "stream",
     "text": [
      "\"We're moving to L.A.!\"\n"
     ]
    }
   ],
   "source": [
    "# Create a string that includes opening and closing quotation marks\n",
    "mystring = '\"We\\'re moving to L.A.!\"'\n",
    "print(mystring)"
   ]
  },
  {
   "cell_type": "code",
   "execution_count": 31,
   "metadata": {
    "ExecuteTime": {
     "end_time": "2021-06-12T19:38:15.462377Z",
     "start_time": "2021-06-12T19:38:15.398531Z"
    }
   },
   "outputs": [
    {
     "name": "stdout",
     "output_type": "stream",
     "text": [
      "\"\n",
      "We\n",
      "'re\n",
      "moving\n",
      "to\n",
      "L.A.\n",
      "!\n",
      "\"\n"
     ]
    }
   ],
   "source": [
    "# Create a Doc object and explore tokens\n",
    "doc_1 = nlp(mystring)\n",
    "\n",
    "for token in doc_1:\n",
    "    print(token.text)"
   ]
  },
  {
   "cell_type": "code",
   "execution_count": 32,
   "metadata": {
    "ExecuteTime": {
     "end_time": "2021-06-12T19:38:15.479930Z",
     "start_time": "2021-06-12T19:38:15.473282Z"
    }
   },
   "outputs": [
    {
     "name": "stdout",
     "output_type": "stream",
     "text": [
      "\" | We | 're | moving | to | L.A. | ! | \" | "
     ]
    }
   ],
   "source": [
    "for token in doc_1:\n",
    "    print(token.text, end=' | ')"
   ]
  },
  {
   "cell_type": "markdown",
   "metadata": {},
   "source": [
    "## Prefixes, suffixes, and infixes"
   ]
  },
  {
   "cell_type": "code",
   "execution_count": 33,
   "metadata": {
    "ExecuteTime": {
     "end_time": "2021-06-12T19:38:16.074851Z",
     "start_time": "2021-06-12T19:38:16.047293Z"
    }
   },
   "outputs": [
    {
     "name": "stdout",
     "output_type": "stream",
     "text": [
      "We\n",
      "'re\n",
      "here\n",
      "to\n",
      "help\n",
      "!\n",
      "Send\n",
      "snail\n",
      "-\n",
      "mail\n",
      ",\n",
      "email\n",
      "support@oursite.com\n",
      "or\n",
      "visit\n",
      "us\n",
      "at\n",
      "http://www.oursite.com\n",
      "!\n"
     ]
    }
   ],
   "source": [
    "doc_2 = nlp(u\"We're here to help! Send snail-mail, email support@oursite.com or visit us at http://www.oursite.com!\")\n",
    "\n",
    "for t in doc_2:\n",
    "    print(t)"
   ]
  },
  {
   "cell_type": "code",
   "execution_count": 34,
   "metadata": {
    "ExecuteTime": {
     "end_time": "2021-06-12T19:38:16.225653Z",
     "start_time": "2021-06-12T19:38:16.194305Z"
    }
   },
   "outputs": [
    {
     "name": "stdout",
     "output_type": "stream",
     "text": [
      "A\n",
      "5\n",
      "km\n",
      "NYC\n",
      "cab\n",
      "ride\n",
      "costs\n",
      "$\n",
      "10.30\n",
      ".\n"
     ]
    }
   ],
   "source": [
    "doc_3 = nlp(u'A 5km NYC cab ride costs $10.30.')\n",
    "\n",
    "for t in doc_3:\n",
    "    print(t)"
   ]
  },
  {
   "cell_type": "markdown",
   "metadata": {},
   "source": [
    "## Exceptions"
   ]
  },
  {
   "cell_type": "code",
   "execution_count": 35,
   "metadata": {
    "ExecuteTime": {
     "end_time": "2021-06-12T19:38:18.311733Z",
     "start_time": "2021-06-12T19:38:18.290598Z"
    }
   },
   "outputs": [
    {
     "name": "stdout",
     "output_type": "stream",
     "text": [
      "Let\n",
      "'s\n",
      "visit\n",
      "St.\n",
      "Louis\n",
      "in\n",
      "the\n",
      "U.S.\n",
      "next\n",
      "year\n",
      ".\n"
     ]
    }
   ],
   "source": [
    "doc_4 = nlp(u\"Let's visit St. Louis in the U.S. next year.\")\n",
    "\n",
    "for t in doc_4:\n",
    "    print(t)"
   ]
  },
  {
   "cell_type": "markdown",
   "metadata": {},
   "source": [
    "## Counting tokens"
   ]
  },
  {
   "cell_type": "code",
   "execution_count": 36,
   "metadata": {
    "ExecuteTime": {
     "end_time": "2021-06-12T19:38:20.447084Z",
     "start_time": "2021-06-12T19:38:20.438913Z"
    }
   },
   "outputs": [
    {
     "data": {
      "text/plain": [
       "11"
      ]
     },
     "execution_count": 36,
     "metadata": {},
     "output_type": "execute_result"
    }
   ],
   "source": [
    "len(doc_4)"
   ]
  },
  {
   "cell_type": "markdown",
   "metadata": {},
   "source": [
    "## Counting vocab entries"
   ]
  },
  {
   "cell_type": "code",
   "execution_count": 37,
   "metadata": {
    "ExecuteTime": {
     "end_time": "2021-06-12T19:38:22.197471Z",
     "start_time": "2021-06-12T19:38:22.191141Z"
    }
   },
   "outputs": [
    {
     "data": {
      "text/plain": [
       "<spacy.vocab.Vocab at 0x7fe1b7eaae10>"
      ]
     },
     "execution_count": 37,
     "metadata": {},
     "output_type": "execute_result"
    }
   ],
   "source": [
    "doc_4.vocab"
   ]
  },
  {
   "cell_type": "code",
   "execution_count": 38,
   "metadata": {
    "ExecuteTime": {
     "end_time": "2021-06-12T19:38:22.340993Z",
     "start_time": "2021-06-12T19:38:22.333842Z"
    }
   },
   "outputs": [
    {
     "data": {
      "text/plain": [
       "791"
      ]
     },
     "execution_count": 38,
     "metadata": {},
     "output_type": "execute_result"
    }
   ],
   "source": [
    "len(doc_4.vocab)"
   ]
  },
  {
   "cell_type": "markdown",
   "metadata": {},
   "source": [
    "## Tokens can be retrieved by index position and slice"
   ]
  },
  {
   "cell_type": "code",
   "execution_count": 39,
   "metadata": {
    "ExecuteTime": {
     "end_time": "2021-06-12T19:38:23.803709Z",
     "start_time": "2021-06-12T19:38:23.779870Z"
    }
   },
   "outputs": [
    {
     "data": {
      "text/plain": [
       "better"
      ]
     },
     "execution_count": 39,
     "metadata": {},
     "output_type": "execute_result"
    }
   ],
   "source": [
    "doc_5 = nlp(u'It is better to give than to receive.')\n",
    "\n",
    "# Retrieve the third token\n",
    "doc_5[2]"
   ]
  },
  {
   "cell_type": "code",
   "execution_count": 40,
   "metadata": {
    "ExecuteTime": {
     "end_time": "2021-06-12T19:38:23.918463Z",
     "start_time": "2021-06-12T19:38:23.912521Z"
    }
   },
   "outputs": [
    {
     "data": {
      "text/plain": [
       "better to give"
      ]
     },
     "execution_count": 40,
     "metadata": {},
     "output_type": "execute_result"
    }
   ],
   "source": [
    "# Retrieve three tokens from the middle\n",
    "doc_5[2:5]"
   ]
  },
  {
   "cell_type": "code",
   "execution_count": 41,
   "metadata": {
    "ExecuteTime": {
     "end_time": "2021-06-12T19:38:24.028029Z",
     "start_time": "2021-06-12T19:38:24.021284Z"
    }
   },
   "outputs": [
    {
     "data": {
      "text/plain": [
       "than to receive."
      ]
     },
     "execution_count": 41,
     "metadata": {},
     "output_type": "execute_result"
    }
   ],
   "source": [
    "# Retrieve the last four tokens\n",
    "doc_5[-4:]"
   ]
  },
  {
   "cell_type": "markdown",
   "metadata": {},
   "source": [
    "## Tokens cannot be reassigned"
   ]
  },
  {
   "cell_type": "code",
   "execution_count": 42,
   "metadata": {
    "ExecuteTime": {
     "end_time": "2021-06-12T19:38:25.502667Z",
     "start_time": "2021-06-12T19:38:25.497678Z"
    }
   },
   "outputs": [
    {
     "name": "stdout",
     "output_type": "stream",
     "text": [
      "TypeError\n"
     ]
    }
   ],
   "source": [
    "try:\n",
    "    doc_5[2] = 'worse'\n",
    "except TypeError:\n",
    "    print ('TypeError')"
   ]
  },
  {
   "cell_type": "code",
   "execution_count": 43,
   "metadata": {
    "ExecuteTime": {
     "end_time": "2021-06-12T19:38:25.623902Z",
     "start_time": "2021-06-12T19:38:25.599561Z"
    }
   },
   "outputs": [],
   "source": [
    "doc_6 = nlp(u'My dinner was horrible.')\n",
    "doc_7 = nlp(u'Your dinner was delicious.')"
   ]
  },
  {
   "cell_type": "code",
   "execution_count": 44,
   "metadata": {
    "ExecuteTime": {
     "end_time": "2021-06-12T19:38:25.755170Z",
     "start_time": "2021-06-12T19:38:25.748020Z"
    }
   },
   "outputs": [
    {
     "name": "stdout",
     "output_type": "stream",
     "text": [
      "TypeError\n"
     ]
    }
   ],
   "source": [
    "# Try to change \"My dinner was horrible.\" to \"My dinner was delicious.\"\n",
    "try:\n",
    "    doc_6[3] = doc_7[3]\n",
    "except TypeError:\n",
    "    print ('TypeError')"
   ]
  },
  {
   "cell_type": "markdown",
   "metadata": {
    "collapsed": true
   },
   "source": [
    "## Named entities"
   ]
  },
  {
   "cell_type": "code",
   "execution_count": 45,
   "metadata": {
    "ExecuteTime": {
     "end_time": "2021-06-12T19:38:27.233162Z",
     "start_time": "2021-06-12T19:38:27.213673Z"
    }
   },
   "outputs": [
    {
     "name": "stdout",
     "output_type": "stream",
     "text": [
      "Apple | to | build | a | Hong | Kong | factory | for | $ | 6 | million | . | "
     ]
    }
   ],
   "source": [
    "doc_8 = nlp(u'Apple to build a Hong Kong factory for $6 million.')\n",
    "\n",
    "for token in doc_8:\n",
    "    print(token.text, end=' | ')"
   ]
  },
  {
   "cell_type": "code",
   "execution_count": 46,
   "metadata": {
    "ExecuteTime": {
     "end_time": "2021-06-12T19:38:27.447444Z",
     "start_time": "2021-06-12T19:38:27.441081Z"
    }
   },
   "outputs": [
    {
     "data": {
      "text/plain": [
       "3"
      ]
     },
     "execution_count": 46,
     "metadata": {},
     "output_type": "execute_result"
    }
   ],
   "source": [
    "len(doc_8.ents)"
   ]
  },
  {
   "cell_type": "code",
   "execution_count": 47,
   "metadata": {
    "ExecuteTime": {
     "end_time": "2021-06-12T19:38:27.579723Z",
     "start_time": "2021-06-12T19:38:27.573956Z"
    }
   },
   "outputs": [
    {
     "name": "stdout",
     "output_type": "stream",
     "text": [
      "Apple\n",
      "Hong Kong\n",
      "$6 million\n"
     ]
    }
   ],
   "source": [
    "for entity in doc_8.ents:\n",
    "    print(entity)"
   ]
  },
  {
   "cell_type": "code",
   "execution_count": 48,
   "metadata": {
    "ExecuteTime": {
     "end_time": "2021-06-12T19:38:27.719356Z",
     "start_time": "2021-06-12T19:38:27.713256Z"
    }
   },
   "outputs": [
    {
     "name": "stdout",
     "output_type": "stream",
     "text": [
      "Apple\n",
      "ORG\n",
      "Companies, agencies, institutions, etc.\n",
      "\n",
      "\n",
      "Hong Kong\n",
      "GPE\n",
      "Countries, cities, states\n",
      "\n",
      "\n",
      "$6 million\n",
      "MONEY\n",
      "Monetary values, including unit\n",
      "\n",
      "\n"
     ]
    }
   ],
   "source": [
    "for entity in doc_8.ents:\n",
    "    print(entity)\n",
    "    print(entity.label_)\n",
    "    print(spacy.explain(entity.label_))\n",
    "    print('\\n')"
   ]
  },
  {
   "cell_type": "code",
   "execution_count": 49,
   "metadata": {
    "ExecuteTime": {
     "end_time": "2021-06-12T19:38:27.844509Z",
     "start_time": "2021-06-12T19:38:27.839240Z"
    }
   },
   "outputs": [
    {
     "name": "stdout",
     "output_type": "stream",
     "text": [
      "Apple - ORG - Companies, agencies, institutions, etc.\n",
      "Hong Kong - GPE - Countries, cities, states\n",
      "$6 million - MONEY - Monetary values, including unit\n"
     ]
    }
   ],
   "source": [
    "for entity in doc_8.ents:\n",
    "    print(entity.text +' - ' + entity.label_ + ' - ' + spacy.explain(entity.label_))"
   ]
  },
  {
   "cell_type": "markdown",
   "metadata": {},
   "source": [
    "## Noun chunks"
   ]
  },
  {
   "cell_type": "code",
   "execution_count": 50,
   "metadata": {
    "ExecuteTime": {
     "end_time": "2021-06-12T19:38:29.988986Z",
     "start_time": "2021-06-12T19:38:29.967937Z"
    }
   },
   "outputs": [
    {
     "name": "stdout",
     "output_type": "stream",
     "text": [
      "Autonomous cars\n",
      "insurance liability\n",
      "manufacturers\n"
     ]
    }
   ],
   "source": [
    "doc_9 = nlp(u\"Autonomous cars shift insurance liability toward manufacturers.\")\n",
    "\n",
    "for chunk in doc_9.noun_chunks:\n",
    "    print(chunk.text)"
   ]
  },
  {
   "cell_type": "code",
   "execution_count": 51,
   "metadata": {
    "ExecuteTime": {
     "end_time": "2021-06-12T19:38:30.175606Z",
     "start_time": "2021-06-12T19:38:30.155639Z"
    }
   },
   "outputs": [
    {
     "name": "stdout",
     "output_type": "stream",
     "text": [
      "Red cars\n",
      "higher insurance rates\n"
     ]
    }
   ],
   "source": [
    "doc_10 = nlp(u\"Red cars do not carry higher insurance rates.\")\n",
    "\n",
    "for chunk in doc_10.noun_chunks:\n",
    "    print(chunk.text)"
   ]
  },
  {
   "cell_type": "code",
   "execution_count": 52,
   "metadata": {
    "ExecuteTime": {
     "end_time": "2021-06-12T19:38:30.385373Z",
     "start_time": "2021-06-12T19:38:30.362075Z"
    }
   },
   "outputs": [
    {
     "name": "stdout",
     "output_type": "stream",
     "text": [
      "He\n",
      "purple people-eater\n"
     ]
    }
   ],
   "source": [
    "doc_11 = nlp(u\"He was a one-eyed, one-horned, flying, purple people-eater.\")\n",
    "\n",
    "for chunk in doc_11.noun_chunks:\n",
    "    print(chunk.text)"
   ]
  }
 ],
 "metadata": {
  "kernelspec": {
   "display_name": "Python 3",
   "language": "python",
   "name": "python3"
  },
  "language_info": {
   "codemirror_mode": {
    "name": "ipython",
    "version": 3
   },
   "file_extension": ".py",
   "mimetype": "text/x-python",
   "name": "python",
   "nbconvert_exporter": "python",
   "pygments_lexer": "ipython3",
   "version": "3.7.9"
  },
  "latex_envs": {
   "LaTeX_envs_menu_present": true,
   "autoclose": false,
   "autocomplete": true,
   "bibliofile": "biblio.bib",
   "cite_by": "apalike",
   "current_citInitial": 1,
   "eqLabelWithNumbers": true,
   "eqNumInitial": 1,
   "hotkeys": {
    "equation": "Ctrl-E",
    "itemize": "Ctrl-I"
   },
   "labels_anchors": false,
   "latex_user_defs": false,
   "report_style_numbering": false,
   "user_envs_cfg": false
  },
  "nbTranslate": {
   "displayLangs": [
    "*"
   ],
   "hotkey": "alt-t",
   "langInMainMenu": true,
   "sourceLang": "en",
   "targetLang": "fr",
   "useGoogleTranslate": true
  },
  "toc": {
   "base_numbering": 1,
   "nav_menu": {},
   "number_sections": true,
   "sideBar": true,
   "skip_h1_title": false,
   "title_cell": "Table of Contents",
   "title_sidebar": "Contents",
   "toc_cell": true,
   "toc_position": {
    "height": "calc(100% - 180px)",
    "left": "10px",
    "top": "150px",
    "width": "288px"
   },
   "toc_section_display": true,
   "toc_window_display": true
  },
  "varInspector": {
   "cols": {
    "lenName": 16,
    "lenType": 16,
    "lenVar": 40
   },
   "kernels_config": {
    "python": {
     "delete_cmd_postfix": "",
     "delete_cmd_prefix": "del ",
     "library": "var_list.py",
     "varRefreshCmd": "print(var_dic_list())"
    },
    "r": {
     "delete_cmd_postfix": ") ",
     "delete_cmd_prefix": "rm(",
     "library": "var_list.r",
     "varRefreshCmd": "cat(var_dic_list()) "
    }
   },
   "types_to_exclude": [
    "module",
    "function",
    "builtin_function_or_method",
    "instance",
    "_Feature"
   ],
   "window_display": true
  }
 },
 "nbformat": 4,
 "nbformat_minor": 2
}
