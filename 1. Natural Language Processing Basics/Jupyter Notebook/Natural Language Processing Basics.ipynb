{
 "cells": [
  {
   "cell_type": "markdown",
   "metadata": {
    "toc": true
   },
   "source": [
    "<h1>Table of Contents<span class=\"tocSkip\"></span></h1>\n",
    "<div class=\"toc\"><ul class=\"toc-item\"><li><span><a href=\"#spaCy-basics\" data-toc-modified-id=\"spaCy-basics-1\"><span class=\"toc-item-num\">1&nbsp;&nbsp;</span>spaCy basics</a></span><ul class=\"toc-item\"><li><span><a href=\"#Installation-and-setup\" data-toc-modified-id=\"Installation-and-setup-1.1\"><span class=\"toc-item-num\">1.1&nbsp;&nbsp;</span>Installation and setup</a></span><ul class=\"toc-item\"><li><span><a href=\"#From-the-command-line-or-terminal\" data-toc-modified-id=\"From-the-command-line-or-terminal-1.1.1\"><span class=\"toc-item-num\">1.1.1&nbsp;&nbsp;</span>From the command line or terminal</a></span></li><li><span><a href=\"#Alternatively,-create-a-virtual-environment\" data-toc-modified-id=\"Alternatively,-create-a-virtual-environment-1.1.2\"><span class=\"toc-item-num\">1.1.2&nbsp;&nbsp;</span>Alternatively, create a virtual environment</a></span></li><li><span><a href=\"#Next,-download-the-specific-model-of-language\" data-toc-modified-id=\"Next,-download-the-specific-model-of-language-1.1.3\"><span class=\"toc-item-num\">1.1.3&nbsp;&nbsp;</span>Next, download the specific model of language</a></span></li></ul></li><li><span><a href=\"#Working-with-spaCy-in-Python\" data-toc-modified-id=\"Working-with-spaCy-in-Python-1.2\"><span class=\"toc-item-num\">1.2&nbsp;&nbsp;</span>Working with spaCy in Python</a></span></li><li><span><a href=\"#spaCy-objects\" data-toc-modified-id=\"spaCy-objects-1.3\"><span class=\"toc-item-num\">1.3&nbsp;&nbsp;</span>spaCy objects</a></span><ul class=\"toc-item\"><li><span><a href=\"#Pipeline\" data-toc-modified-id=\"Pipeline-1.3.1\"><span class=\"toc-item-num\">1.3.1&nbsp;&nbsp;</span>Pipeline</a></span></li><li><span><a href=\"#Tokenization\" data-toc-modified-id=\"Tokenization-1.3.2\"><span class=\"toc-item-num\">1.3.2&nbsp;&nbsp;</span>Tokenization</a></span></li><li><span><a href=\"#Part-of-speech-tagging-(POS)\" data-toc-modified-id=\"Part-of-speech-tagging-(POS)-1.3.3\"><span class=\"toc-item-num\">1.3.3&nbsp;&nbsp;</span>Part-of-speech tagging (POS)</a></span></li><li><span><a href=\"#Dependencies\" data-toc-modified-id=\"Dependencies-1.3.4\"><span class=\"toc-item-num\">1.3.4&nbsp;&nbsp;</span>Dependencies</a></span></li><li><span><a href=\"#Additional-token-attributes\" data-toc-modified-id=\"Additional-token-attributes-1.3.5\"><span class=\"toc-item-num\">1.3.5&nbsp;&nbsp;</span>Additional token attributes</a></span></li></ul></li><li><span><a href=\"#Spans\" data-toc-modified-id=\"Spans-1.4\"><span class=\"toc-item-num\">1.4&nbsp;&nbsp;</span>Spans</a></span></li><li><span><a href=\"#Sentences\" data-toc-modified-id=\"Sentences-1.5\"><span class=\"toc-item-num\">1.5&nbsp;&nbsp;</span>Sentences</a></span></li><li><span><a href=\"#Next-up:-Tokenization\" data-toc-modified-id=\"Next-up:-Tokenization-1.6\"><span class=\"toc-item-num\">1.6&nbsp;&nbsp;</span>Next up: Tokenization</a></span></li></ul></li></ul></div>"
   ]
  },
  {
   "cell_type": "markdown",
   "metadata": {},
   "source": [
    "# spaCy basics\n",
    "\n",
    "* For more info, visit: https://spacy.io"
   ]
  },
  {
   "cell_type": "markdown",
   "metadata": {},
   "source": [
    "## Installation and setup\n",
    "\n",
    "* For more info, visit: https://spacy.io/usage"
   ]
  },
  {
   "cell_type": "markdown",
   "metadata": {},
   "source": [
    "### From the command line or terminal\n",
    "\n",
    "> `conda install -c conda-forge spacy`\n",
    "> \n",
    "> or\n",
    "> \n",
    "> `pip install -U spacy`"
   ]
  },
  {
   "cell_type": "markdown",
   "metadata": {},
   "source": [
    "### Alternatively, create a virtual environment\n",
    "\n",
    "> `conda create -n spacyenv python spacy`"
   ]
  },
  {
   "cell_type": "markdown",
   "metadata": {},
   "source": [
    "### Next, download the specific model of language\n",
    "\n",
    "> `python -m spacy download en_core_web_sm`"
   ]
  },
  {
   "cell_type": "markdown",
   "metadata": {},
   "source": [
    "## Working with spaCy in Python"
   ]
  },
  {
   "cell_type": "code",
   "execution_count": 4,
   "metadata": {
    "ExecuteTime": {
     "end_time": "2021-06-11T23:59:11.641896Z",
     "start_time": "2021-06-11T23:59:11.624184Z"
    }
   },
   "outputs": [],
   "source": [
    "# Import spaCy and load the language library\n",
    "import spacy"
   ]
  },
  {
   "cell_type": "code",
   "execution_count": 16,
   "metadata": {
    "ExecuteTime": {
     "end_time": "2021-06-12T00:25:05.938652Z",
     "start_time": "2021-06-12T00:25:04.015165Z"
    }
   },
   "outputs": [],
   "source": [
    "nlp = spacy.load('en_core_web_sm')"
   ]
  },
  {
   "cell_type": "code",
   "execution_count": 35,
   "metadata": {
    "ExecuteTime": {
     "end_time": "2021-06-12T00:33:19.017434Z",
     "start_time": "2021-06-12T00:33:18.995097Z"
    }
   },
   "outputs": [],
   "source": [
    "# Create a Doc object\n",
    "doc_1 = nlp(u'Tesla is looking at buying a U.S. startup for $6 million.')"
   ]
  },
  {
   "cell_type": "code",
   "execution_count": 21,
   "metadata": {
    "ExecuteTime": {
     "end_time": "2021-06-12T00:25:33.193145Z",
     "start_time": "2021-06-12T00:25:33.187456Z"
    }
   },
   "outputs": [
    {
     "name": "stdout",
     "output_type": "stream",
     "text": [
      "     Tesla        96\n",
      "        is        87\n",
      "   looking       100\n",
      "        at        85\n",
      "    buying       100\n",
      "         a        90\n",
      "      U.S.        96\n",
      "   startup        92\n",
      "       for        85\n",
      "         $        99\n",
      "         6        93\n",
      "   million        93\n",
      "         .        97\n"
     ]
    }
   ],
   "source": [
    "row_format =\"{:>10}\" * 2\n",
    "# Print each token separately\n",
    "for token in doc_1:\n",
    "    print(row_format.format(token.text, token.pos))"
   ]
  },
  {
   "cell_type": "code",
   "execution_count": 22,
   "metadata": {
    "ExecuteTime": {
     "end_time": "2021-06-12T00:25:36.858633Z",
     "start_time": "2021-06-12T00:25:36.852726Z"
    }
   },
   "outputs": [
    {
     "name": "stdout",
     "output_type": "stream",
     "text": [
      "     Tesla     PROPN     nsubj\n",
      "        is       AUX       aux\n",
      "   looking      VERB      ROOT\n",
      "        at       ADP      prep\n",
      "    buying      VERB     pcomp\n",
      "         a       DET       det\n",
      "      U.S.     PROPN  compound\n",
      "   startup      NOUN      dobj\n",
      "       for       ADP      prep\n",
      "         $       SYM  quantmod\n",
      "         6       NUM  compound\n",
      "   million       NUM      pobj\n",
      "         .     PUNCT     punct\n"
     ]
    }
   ],
   "source": [
    "row_format =\"{:>10}\" * 3\n",
    "for token in doc_1:\n",
    "    print(row_format.format(token.text, token.pos_, token.dep_))"
   ]
  },
  {
   "cell_type": "markdown",
   "metadata": {},
   "source": [
    "## spaCy objects"
   ]
  },
  {
   "cell_type": "markdown",
   "metadata": {},
   "source": [
    "### Pipeline\n",
    "\n",
    "* Image source: https://spacy.io/usage/processing-pipelines\n",
    "\n",
    "![Pipeline](../Figures/1.%20Pipeline.png)"
   ]
  },
  {
   "cell_type": "code",
   "execution_count": 53,
   "metadata": {
    "ExecuteTime": {
     "end_time": "2021-06-12T13:04:34.934959Z",
     "start_time": "2021-06-12T13:04:34.870179Z"
    }
   },
   "outputs": [
    {
     "data": {
      "text/plain": [
       "[('tok2vec', <spacy.pipeline.tok2vec.Tok2Vec at 0x7fa7b00822f0>),\n",
       " ('tagger', <spacy.pipeline.tagger.Tagger at 0x7fa7b00af650>),\n",
       " ('parser', <spacy.pipeline.dep_parser.DependencyParser at 0x7fa7aa999ad0>),\n",
       " ('ner', <spacy.pipeline.ner.EntityRecognizer at 0x7fa7aa999750>),\n",
       " ('attribute_ruler',\n",
       "  <spacy.pipeline.attributeruler.AttributeRuler at 0x7fa7c5e368c0>),\n",
       " ('lemmatizer',\n",
       "  <spacy.lang.en.lemmatizer.EnglishLemmatizer at 0x7fa7b02f3820>)]"
      ]
     },
     "execution_count": 53,
     "metadata": {},
     "output_type": "execute_result"
    }
   ],
   "source": [
    "nlp.pipeline"
   ]
  },
  {
   "cell_type": "code",
   "execution_count": 54,
   "metadata": {
    "ExecuteTime": {
     "end_time": "2021-06-12T13:04:35.828113Z",
     "start_time": "2021-06-12T13:04:35.814375Z"
    }
   },
   "outputs": [
    {
     "data": {
      "text/plain": [
       "['tok2vec', 'tagger', 'parser', 'ner', 'attribute_ruler', 'lemmatizer']"
      ]
     },
     "execution_count": 54,
     "metadata": {},
     "output_type": "execute_result"
    }
   ],
   "source": [
    "nlp.pipe_names"
   ]
  },
  {
   "cell_type": "markdown",
   "metadata": {},
   "source": [
    "### Tokenization"
   ]
  },
  {
   "cell_type": "code",
   "execution_count": 55,
   "metadata": {
    "ExecuteTime": {
     "end_time": "2021-06-12T13:04:40.012150Z",
     "start_time": "2021-06-12T13:04:39.591651Z"
    }
   },
   "outputs": [
    {
     "name": "stdout",
     "output_type": "stream",
     "text": [
      "     Tesla     PROPN     nsubj\n",
      "        is       AUX       aux\n",
      "       n't      PART       neg\n",
      "   looking      VERB      ROOT\n",
      "      into       ADP      prep\n",
      "  startups      NOUN      pobj\n",
      "   anymore       ADV    advmod\n",
      "         .     PUNCT     punct\n"
     ]
    }
   ],
   "source": [
    "doc_2 = nlp(u\"Tesla isn't looking into startups anymore.\")\n",
    "\n",
    "row_format =\"{:>10}\" * 3\n",
    "for token in doc_2:\n",
    "    print(row_format.format(token.text, token.pos_, token.dep_))"
   ]
  },
  {
   "cell_type": "code",
   "execution_count": 56,
   "metadata": {
    "ExecuteTime": {
     "end_time": "2021-06-12T13:04:40.155952Z",
     "start_time": "2021-06-12T13:04:40.113213Z"
    }
   },
   "outputs": [
    {
     "name": "stdout",
     "output_type": "stream",
     "text": [
      "     Tesla     PROPN     nsubj\n",
      "        is       AUX       aux\n",
      "       n't      PART       neg\n",
      "               SPACE     nsubj\n",
      "   looking      VERB      ROOT\n",
      "      into       ADP      prep\n",
      "  startups      NOUN      pobj\n",
      "   anymore       ADV    advmod\n",
      "         .     PUNCT     punct\n"
     ]
    }
   ],
   "source": [
    "doc_2 = nlp(u\"Tesla isn't   looking into startups anymore.\")\n",
    "\n",
    "row_format =\"{:>10}\" * 3\n",
    "for token in doc_2:\n",
    "    print(row_format.format(token.text, token.pos_, token.dep_))"
   ]
  },
  {
   "cell_type": "code",
   "execution_count": 57,
   "metadata": {
    "ExecuteTime": {
     "end_time": "2021-06-12T13:04:44.370902Z",
     "start_time": "2021-06-12T13:04:44.364277Z"
    }
   },
   "outputs": [
    {
     "data": {
      "text/plain": [
       "Tesla isn't   looking into startups anymore."
      ]
     },
     "execution_count": 57,
     "metadata": {},
     "output_type": "execute_result"
    }
   ],
   "source": [
    "doc_2"
   ]
  },
  {
   "cell_type": "code",
   "execution_count": 58,
   "metadata": {
    "ExecuteTime": {
     "end_time": "2021-06-12T13:04:44.752280Z",
     "start_time": "2021-06-12T13:04:44.741597Z"
    }
   },
   "outputs": [
    {
     "data": {
      "text/plain": [
       "spacy.tokens.doc.Doc"
      ]
     },
     "execution_count": 58,
     "metadata": {},
     "output_type": "execute_result"
    }
   ],
   "source": [
    "type(doc_2)"
   ]
  },
  {
   "cell_type": "code",
   "execution_count": 59,
   "metadata": {
    "ExecuteTime": {
     "end_time": "2021-06-12T13:04:44.969993Z",
     "start_time": "2021-06-12T13:04:44.963021Z"
    }
   },
   "outputs": [
    {
     "data": {
      "text/plain": [
       "Tesla"
      ]
     },
     "execution_count": 59,
     "metadata": {},
     "output_type": "execute_result"
    }
   ],
   "source": [
    "doc_2[0]"
   ]
  },
  {
   "cell_type": "code",
   "execution_count": 60,
   "metadata": {
    "ExecuteTime": {
     "end_time": "2021-06-12T13:04:45.392234Z",
     "start_time": "2021-06-12T13:04:45.385273Z"
    }
   },
   "outputs": [
    {
     "data": {
      "text/plain": [
       "'Tesla'"
      ]
     },
     "execution_count": 60,
     "metadata": {},
     "output_type": "execute_result"
    }
   ],
   "source": [
    "doc_2[0].text"
   ]
  },
  {
   "cell_type": "markdown",
   "metadata": {},
   "source": [
    "### Part-of-speech tagging (POS)\n",
    "\n",
    "* For more info, visit: https://spacy.io/usage/linguistic-features#pos-tagging"
   ]
  },
  {
   "cell_type": "code",
   "execution_count": 37,
   "metadata": {
    "ExecuteTime": {
     "end_time": "2021-06-12T00:52:58.570232Z",
     "start_time": "2021-06-12T00:52:58.543436Z"
    }
   },
   "outputs": [
    {
     "data": {
      "text/plain": [
       "'PROPN'"
      ]
     },
     "execution_count": 37,
     "metadata": {},
     "output_type": "execute_result"
    }
   ],
   "source": [
    "doc_2[0].pos_"
   ]
  },
  {
   "cell_type": "code",
   "execution_count": 52,
   "metadata": {
    "ExecuteTime": {
     "end_time": "2021-06-12T01:41:39.266546Z",
     "start_time": "2021-06-12T01:41:39.254951Z"
    }
   },
   "outputs": [
    {
     "data": {
      "text/plain": [
       "'proper noun'"
      ]
     },
     "execution_count": 52,
     "metadata": {},
     "output_type": "execute_result"
    }
   ],
   "source": [
    "spacy.explain('PROPN')"
   ]
  },
  {
   "cell_type": "markdown",
   "metadata": {},
   "source": [
    "### Dependencies\n",
    "\n",
    "* For more info, visit: https://spacy.io/usage/linguistic-features#dependency-parse\n",
    "\n",
    "* [Here](https://downloads.cs.stanford.edu/nlp/software/dependencies_manual.pdf), there is a good explanation of typed dependencies."
   ]
  },
  {
   "cell_type": "code",
   "execution_count": 43,
   "metadata": {
    "ExecuteTime": {
     "end_time": "2021-06-12T01:35:58.750875Z",
     "start_time": "2021-06-12T01:35:58.743133Z"
    }
   },
   "outputs": [
    {
     "data": {
      "text/plain": [
       "'nsubj'"
      ]
     },
     "execution_count": 43,
     "metadata": {},
     "output_type": "execute_result"
    }
   ],
   "source": [
    "doc_2[0].dep_"
   ]
  },
  {
   "cell_type": "code",
   "execution_count": 51,
   "metadata": {
    "ExecuteTime": {
     "end_time": "2021-06-12T01:41:35.557779Z",
     "start_time": "2021-06-12T01:41:35.549456Z"
    }
   },
   "outputs": [
    {
     "data": {
      "text/plain": [
       "'nominal subject'"
      ]
     },
     "execution_count": 51,
     "metadata": {},
     "output_type": "execute_result"
    }
   ],
   "source": [
    "spacy.explain('nsubj')"
   ]
  },
  {
   "cell_type": "code",
   "execution_count": null,
   "metadata": {},
   "outputs": [],
   "source": []
  },
  {
   "cell_type": "code",
   "execution_count": null,
   "metadata": {},
   "outputs": [],
   "source": []
  },
  {
   "cell_type": "code",
   "execution_count": null,
   "metadata": {},
   "outputs": [],
   "source": []
  },
  {
   "cell_type": "code",
   "execution_count": null,
   "metadata": {},
   "outputs": [],
   "source": []
  },
  {
   "cell_type": "markdown",
   "metadata": {},
   "source": [
    "### Additional token attributes"
   ]
  },
  {
   "cell_type": "code",
   "execution_count": null,
   "metadata": {},
   "outputs": [],
   "source": []
  },
  {
   "cell_type": "code",
   "execution_count": null,
   "metadata": {},
   "outputs": [],
   "source": []
  },
  {
   "cell_type": "code",
   "execution_count": null,
   "metadata": {},
   "outputs": [],
   "source": []
  },
  {
   "cell_type": "code",
   "execution_count": 12,
   "metadata": {},
   "outputs": [
    {
     "name": "stdout",
     "output_type": "stream",
     "text": [
      "looking\n",
      "look\n"
     ]
    }
   ],
   "source": [
    "# Lemmas (the base form of the word):\n",
    "print(doc2[4].text)\n",
    "print(doc2[4].lemma_)"
   ]
  },
  {
   "cell_type": "code",
   "execution_count": 50,
   "metadata": {
    "ExecuteTime": {
     "end_time": "2021-06-12T01:41:11.197831Z",
     "start_time": "2021-06-12T01:41:11.188006Z"
    }
   },
   "outputs": [
    {
     "name": "stdout",
     "output_type": "stream",
     "text": [
      "VERB / verb\n",
      "VBG  / verb, gerund or present participle\n"
     ]
    }
   ],
   "source": [
    "# Simple Parts-of-Speech & Detailed Tags:\n",
    "print(doc_2[4].pos_ + ' / ' + spacy.explain(doc_2[4].pos_))\n",
    "print(doc_2[4].tag_ + '  / ' + spacy.explain(doc_2[4].tag_))"
   ]
  },
  {
   "cell_type": "code",
   "execution_count": 14,
   "metadata": {},
   "outputs": [
    {
     "name": "stdout",
     "output_type": "stream",
     "text": [
      "Tesla: Xxxxx\n",
      "U.S. : X.X.\n"
     ]
    }
   ],
   "source": [
    "# Word Shapes:\n",
    "print(doc2[0].text + ': ' + doc2[0].shape_)\n",
    "print(doc[5].text + ' : ' + doc[5].shape_)"
   ]
  },
  {
   "cell_type": "code",
   "execution_count": 15,
   "metadata": {},
   "outputs": [
    {
     "name": "stdout",
     "output_type": "stream",
     "text": [
      "True\n",
      "False\n"
     ]
    }
   ],
   "source": [
    "# Boolean Values:\n",
    "print(doc2[0].is_alpha)\n",
    "print(doc2[0].is_stop)"
   ]
  },
  {
   "cell_type": "markdown",
   "metadata": {},
   "source": [
    "___\n",
    "## Spans\n",
    "Large Doc objects can be hard to work with at times. A **span** is a slice of Doc object in the form `Doc[start:stop]`."
   ]
  },
  {
   "cell_type": "code",
   "execution_count": 16,
   "metadata": {},
   "outputs": [],
   "source": [
    "doc3 = nlp(\n",
    "    u'Although commmonly attributed to John Lennon from his song \"Beautiful Boy\", \\\n",
    "the phrase \"Life is what happens to us while we are making other plans\" was written by \\\n",
    "cartoonist Allen Saunders and published in Reader\\'s Digest in 1957, when Lennon was 17.'\n",
    ")"
   ]
  },
  {
   "cell_type": "code",
   "execution_count": 17,
   "metadata": {},
   "outputs": [
    {
     "name": "stdout",
     "output_type": "stream",
     "text": [
      "\"Life is what happens to us while we are making other plans\"\n"
     ]
    }
   ],
   "source": [
    "life_quote = doc3[16:30]\n",
    "print(life_quote)"
   ]
  },
  {
   "cell_type": "code",
   "execution_count": 18,
   "metadata": {},
   "outputs": [
    {
     "data": {
      "text/plain": [
       "spacy.tokens.span.Span"
      ]
     },
     "execution_count": 18,
     "metadata": {},
     "output_type": "execute_result"
    }
   ],
   "source": [
    "type(life_quote)"
   ]
  },
  {
   "cell_type": "markdown",
   "metadata": {},
   "source": [
    "In upcoming lectures we'll see how to create Span objects using `Span()`. This will allow us to assign additional information to the Span."
   ]
  },
  {
   "cell_type": "markdown",
   "metadata": {},
   "source": [
    "___\n",
    "## Sentences\n",
    "Certain tokens inside a Doc object may also receive a \"start of sentence\" tag. While this doesn't immediately build a list of sentences, these tags enable the generation of sentence segments through `Doc.sents`. Later we'll write our own segmentation rules."
   ]
  },
  {
   "cell_type": "code",
   "execution_count": 19,
   "metadata": {},
   "outputs": [],
   "source": [
    "doc4 = nlp(\n",
    "    u'This is the first sentence. This is another sentence. This is the last sentence.'\n",
    ")"
   ]
  },
  {
   "cell_type": "code",
   "execution_count": 20,
   "metadata": {},
   "outputs": [
    {
     "name": "stdout",
     "output_type": "stream",
     "text": [
      "This is the first sentence.\n",
      "This is another sentence.\n",
      "This is the last sentence.\n"
     ]
    }
   ],
   "source": [
    "for sent in doc4.sents:\n",
    "    print(sent)"
   ]
  },
  {
   "cell_type": "code",
   "execution_count": 21,
   "metadata": {},
   "outputs": [
    {
     "data": {
      "text/plain": [
       "True"
      ]
     },
     "execution_count": 21,
     "metadata": {},
     "output_type": "execute_result"
    }
   ],
   "source": [
    "doc4[6].is_sent_start"
   ]
  },
  {
   "cell_type": "markdown",
   "metadata": {},
   "source": [
    "## Next up: Tokenization"
   ]
  }
 ],
 "metadata": {
  "kernelspec": {
   "display_name": "Python 3",
   "language": "python",
   "name": "python3"
  },
  "language_info": {
   "codemirror_mode": {
    "name": "ipython",
    "version": 3
   },
   "file_extension": ".py",
   "mimetype": "text/x-python",
   "name": "python",
   "nbconvert_exporter": "python",
   "pygments_lexer": "ipython3",
   "version": "3.7.9"
  },
  "latex_envs": {
   "LaTeX_envs_menu_present": true,
   "autoclose": false,
   "autocomplete": true,
   "bibliofile": "biblio.bib",
   "cite_by": "apalike",
   "current_citInitial": 1,
   "eqLabelWithNumbers": true,
   "eqNumInitial": 1,
   "hotkeys": {
    "equation": "Ctrl-E",
    "itemize": "Ctrl-I"
   },
   "labels_anchors": false,
   "latex_user_defs": false,
   "report_style_numbering": false,
   "user_envs_cfg": false
  },
  "nbTranslate": {
   "displayLangs": [
    "*"
   ],
   "hotkey": "alt-t",
   "langInMainMenu": true,
   "sourceLang": "en",
   "targetLang": "fr",
   "useGoogleTranslate": true
  },
  "toc": {
   "base_numbering": 1,
   "nav_menu": {},
   "number_sections": true,
   "sideBar": true,
   "skip_h1_title": false,
   "title_cell": "Table of Contents",
   "title_sidebar": "Contents",
   "toc_cell": true,
   "toc_position": {
    "height": "calc(100% - 180px)",
    "left": "10px",
    "top": "150px",
    "width": "288px"
   },
   "toc_section_display": true,
   "toc_window_display": true
  },
  "varInspector": {
   "cols": {
    "lenName": 16,
    "lenType": 16,
    "lenVar": 40
   },
   "kernels_config": {
    "python": {
     "delete_cmd_postfix": "",
     "delete_cmd_prefix": "del ",
     "library": "var_list.py",
     "varRefreshCmd": "print(var_dic_list())"
    },
    "r": {
     "delete_cmd_postfix": ") ",
     "delete_cmd_prefix": "rm(",
     "library": "var_list.r",
     "varRefreshCmd": "cat(var_dic_list()) "
    }
   },
   "types_to_exclude": [
    "module",
    "function",
    "builtin_function_or_method",
    "instance",
    "_Feature"
   ],
   "window_display": true
  }
 },
 "nbformat": 4,
 "nbformat_minor": 2
}
