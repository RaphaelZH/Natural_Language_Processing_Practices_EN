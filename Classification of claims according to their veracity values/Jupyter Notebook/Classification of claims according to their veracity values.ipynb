{
 "cells": [
  {
   "cell_type": "markdown",
   "id": "27027bff",
   "metadata": {
    "toc": true
   },
   "source": [
    "<h1>Table of Contents<span class=\"tocSkip\"></span></h1>\n",
    "<div class=\"toc\"><ul class=\"toc-item\"><li><span><a href=\"#Data-Acquisition\" data-toc-modified-id=\"Data-Acquisition-1\"><span class=\"toc-item-num\">1&nbsp;&nbsp;</span>Data Acquisition</a></span><ul class=\"toc-item\"><li><span><a href=\"#Load-the-dataset-of-task\" data-toc-modified-id=\"Load-the-dataset-of-task-1.1\"><span class=\"toc-item-num\">1.1&nbsp;&nbsp;</span>Load the dataset of task</a></span></li><li><span><a href=\"#Take-a-quick-look-at-this-DataFrame\" data-toc-modified-id=\"Take-a-quick-look-at-this-DataFrame-1.2\"><span class=\"toc-item-num\">1.2&nbsp;&nbsp;</span>Take a quick look at this DataFrame</a></span></li></ul></li><li><span><a href=\"#Text-Cleaning\" data-toc-modified-id=\"Text-Cleaning-2\"><span class=\"toc-item-num\">2&nbsp;&nbsp;</span>Text Cleaning</a></span><ul class=\"toc-item\"><li><span><a href=\"#Generate-columns-of-label_2c-and-label_3c-according-to-column-rating_alternateName\" data-toc-modified-id=\"Generate-columns-of-label_2c-and-label_3c-according-to-column-rating_alternateName-2.1\"><span class=\"toc-item-num\">2.1&nbsp;&nbsp;</span>Generate columns of <code>label_2c</code> and <code>label_3c</code> according to column <code>rating_alternateName</code></a></span></li><li><span><a href=\"#Check-for-missing-values-and-remove-missing-values\" data-toc-modified-id=\"Check-for-missing-values-and-remove-missing-values-2.2\"><span class=\"toc-item-num\">2.2&nbsp;&nbsp;</span>Check for missing values and remove missing values</a></span></li></ul></li><li><span><a href=\"#Pre-Processing\" data-toc-modified-id=\"Pre-Processing-3\"><span class=\"toc-item-num\">3&nbsp;&nbsp;</span>Pre-Processing</a></span><ul class=\"toc-item\"><li><span><a href=\"#Tokening-the-data-with-spaCy\" data-toc-modified-id=\"Tokening-the-data-with-spaCy-3.1\"><span class=\"toc-item-num\">3.1&nbsp;&nbsp;</span>Tokening the data with spaCy</a></span></li><li><span><a href=\"#Defining-a-custom-transformer\" data-toc-modified-id=\"Defining-a-custom-transformer-3.2\"><span class=\"toc-item-num\">3.2&nbsp;&nbsp;</span>Defining a custom transformer</a></span></li></ul></li><li><span><a href=\"#Feature-Engineering\" data-toc-modified-id=\"Feature-Engineering-4\"><span class=\"toc-item-num\">4&nbsp;&nbsp;</span>Feature Engineering</a></span><ul class=\"toc-item\"><li><span><a href=\"#Vectorization-feature-engineering-(Bag-of-Words)\" data-toc-modified-id=\"Vectorization-feature-engineering-(Bag-of-Words)-4.1\"><span class=\"toc-item-num\">4.1&nbsp;&nbsp;</span>Vectorization feature engineering (Bag of Words)</a></span></li><li><span><a href=\"#Vectorization-feature-engineering-(TF-IDF)\" data-toc-modified-id=\"Vectorization-feature-engineering-(TF-IDF)-4.2\"><span class=\"toc-item-num\">4.2&nbsp;&nbsp;</span>Vectorization feature engineering (TF-IDF)</a></span></li></ul></li><li><span><a href=\"#Modeling\" data-toc-modified-id=\"Modeling-5\"><span class=\"toc-item-num\">5&nbsp;&nbsp;</span>Modeling</a></span><ul class=\"toc-item\"><li><span><a href=\"#Split-the-data-into-train-&amp;-test-sets\" data-toc-modified-id=\"Split-the-data-into-train-&amp;-test-sets-5.1\"><span class=\"toc-item-num\">5.1&nbsp;&nbsp;</span>Split the data into train &amp; test sets</a></span><ul class=\"toc-item\"><li><span><a href=\"#y-=-label_2c\" data-toc-modified-id=\"y-=-label_2c-5.1.1\"><span class=\"toc-item-num\">5.1.1&nbsp;&nbsp;</span>y = <code>label_2c</code></a></span></li><li><span><a href=\"#y-=-label_3c\" data-toc-modified-id=\"y-=-label_3c-5.1.2\"><span class=\"toc-item-num\">5.1.2&nbsp;&nbsp;</span>y = <code>label_3c</code></a></span></li></ul></li><li><span><a href=\"#Creating-a-pipeline-and-generating-the-model\" data-toc-modified-id=\"Creating-a-pipeline-and-generating-the-model-5.2\"><span class=\"toc-item-num\">5.2&nbsp;&nbsp;</span>Creating a pipeline and generating the model</a></span></li></ul></li><li><span><a href=\"#Evaluation\" data-toc-modified-id=\"Evaluation-6\"><span class=\"toc-item-num\">6&nbsp;&nbsp;</span>Evaluation</a></span></li></ul></div>"
   ]
  },
  {
   "cell_type": "markdown",
   "id": "dddb8557",
   "metadata": {},
   "source": [
    "# Data Acquisition\n",
    "\n",
    "## Load the dataset of task"
   ]
  },
  {
   "cell_type": "code",
   "execution_count": 1,
   "id": "813a09d2",
   "metadata": {
    "ExecuteTime": {
     "end_time": "2021-06-15T18:25:53.255971Z",
     "start_time": "2021-06-15T18:25:13.061094Z"
    }
   },
   "outputs": [
    {
     "data": {
      "text/html": [
       "<div>\n",
       "<style scoped>\n",
       "    .dataframe tbody tr th:only-of-type {\n",
       "        vertical-align: middle;\n",
       "    }\n",
       "\n",
       "    .dataframe tbody tr th {\n",
       "        vertical-align: top;\n",
       "    }\n",
       "\n",
       "    .dataframe thead th {\n",
       "        text-align: right;\n",
       "    }\n",
       "</style>\n",
       "<table border=\"1\" class=\"dataframe\">\n",
       "  <thead>\n",
       "    <tr style=\"text-align: right;\">\n",
       "      <th></th>\n",
       "      <th>Unnamed: 0</th>\n",
       "      <th>claimReview_author</th>\n",
       "      <th>claimReview_author_name</th>\n",
       "      <th>claimReview_author_url</th>\n",
       "      <th>claimReview_claimReviewed</th>\n",
       "      <th>claimReview_datePublished</th>\n",
       "      <th>claimReview_source</th>\n",
       "      <th>claimReview_url</th>\n",
       "      <th>creativeWork_author_name</th>\n",
       "      <th>creativeWork_author_sameAs</th>\n",
       "      <th>...</th>\n",
       "      <th>extra_entities_body</th>\n",
       "      <th>extra_entities_claimReview_claimReviewed</th>\n",
       "      <th>extra_entities_keywords</th>\n",
       "      <th>extra_refered_links</th>\n",
       "      <th>extra_tags</th>\n",
       "      <th>extra_title</th>\n",
       "      <th>rating_alternateName</th>\n",
       "      <th>rating_bestRating</th>\n",
       "      <th>rating_ratingValue</th>\n",
       "      <th>rating_worstRating</th>\n",
       "    </tr>\n",
       "  </thead>\n",
       "  <tbody>\n",
       "    <tr>\n",
       "      <th>0</th>\n",
       "      <td>0</td>\n",
       "      <td>NaN</td>\n",
       "      <td>snopes</td>\n",
       "      <td>NaN</td>\n",
       "      <td>Finnish President Sauli Niinistö posted a vide...</td>\n",
       "      <td>2019-10-07</td>\n",
       "      <td>snopes</td>\n",
       "      <td>https://www.snopes.com/fact-check/president-fi...</td>\n",
       "      <td>NaN</td>\n",
       "      <td>NaN</td>\n",
       "      <td>...</td>\n",
       "      <td>[{\"id\" : 33057\",\"\"begin\": 46,\"end\": 57,\"entity...</td>\n",
       "      <td>[{\"id\" : 1042690\",\"\"begin\": 18,\"end\": 32,\"enti...</td>\n",
       "      <td>[]</td>\n",
       "      <td>https://t.co/Oo5Q56ALAu,https://twitter.com/ia...</td>\n",
       "      <td>NaN</td>\n",
       "      <td>Did the President of Finland Post a Video Resp...</td>\n",
       "      <td>False</td>\n",
       "      <td>NaN</td>\n",
       "      <td>NaN</td>\n",
       "      <td>NaN</td>\n",
       "    </tr>\n",
       "    <tr>\n",
       "      <th>1</th>\n",
       "      <td>1</td>\n",
       "      <td>NaN</td>\n",
       "      <td>snopes</td>\n",
       "      <td>NaN</td>\n",
       "      <td>A supporter of U.S. Rep. Alexandria Ocasio-Cor...</td>\n",
       "      <td>2019-10-04</td>\n",
       "      <td>snopes</td>\n",
       "      <td>https://www.snopes.com/fact-check/babies-clima...</td>\n",
       "      <td>NaN</td>\n",
       "      <td>NaN</td>\n",
       "      <td>...</td>\n",
       "      <td>[{\"id\" : 645042\",\"\"begin\": 33,\"end\": 46,\"entit...</td>\n",
       "      <td>[{\"id\" : 54885332\",\"\"begin\": 22,\"end\": 45,\"ent...</td>\n",
       "      <td>[]</td>\n",
       "      <td>https://twitter.com/redsteeze/status/117991491...</td>\n",
       "      <td>NaN</td>\n",
       "      <td>Did an AOC Supporter Suggest ‘Eating Babies’ t...</td>\n",
       "      <td>Mixture</td>\n",
       "      <td>NaN</td>\n",
       "      <td>NaN</td>\n",
       "      <td>NaN</td>\n",
       "    </tr>\n",
       "    <tr>\n",
       "      <th>2</th>\n",
       "      <td>2</td>\n",
       "      <td>NaN</td>\n",
       "      <td>snopes</td>\n",
       "      <td>NaN</td>\n",
       "      <td>A photograph shows a bride and groom during a ...</td>\n",
       "      <td>2019-10-04</td>\n",
       "      <td>snopes</td>\n",
       "      <td>https://www.snopes.com/fact-check/handmaid-tal...</td>\n",
       "      <td>NaN</td>\n",
       "      <td>NaN</td>\n",
       "      <td>...</td>\n",
       "      <td>[{\"id\" : 50430110\",\"\"begin\": 91,\"end\": 106,\"en...</td>\n",
       "      <td>[{\"id\" : 50430110\",\"\"begin\": 46,\"end\": 61,\"ent...</td>\n",
       "      <td>[]</td>\n",
       "      <td>https://twitter.com/God_loves_women/status/117...</td>\n",
       "      <td>NaN</td>\n",
       "      <td>Is This a Photo of a ‘Handmaid’s Tale’-Themed ...</td>\n",
       "      <td>Miscaptioned</td>\n",
       "      <td>NaN</td>\n",
       "      <td>NaN</td>\n",
       "      <td>NaN</td>\n",
       "    </tr>\n",
       "    <tr>\n",
       "      <th>3</th>\n",
       "      <td>3</td>\n",
       "      <td>NaN</td>\n",
       "      <td>snopes</td>\n",
       "      <td>NaN</td>\n",
       "      <td>Canada legalized the medicinal use of cocaine.</td>\n",
       "      <td>2019-10-04</td>\n",
       "      <td>snopes</td>\n",
       "      <td>https://www.snopes.com/fact-check/medicinal-co...</td>\n",
       "      <td>NaN</td>\n",
       "      <td>NaN</td>\n",
       "      <td>...</td>\n",
       "      <td>[{\"id\" : 7701\",\"\"begin\": 96,\"end\": 103,\"entity...</td>\n",
       "      <td>[{\"id\" : 7701\",\"\"begin\": 38,\"end\": 45,\"entity\"...</td>\n",
       "      <td>[]</td>\n",
       "      <td>https://web.archive.org/web/20191004171021/htt...</td>\n",
       "      <td>NaN</td>\n",
       "      <td>Did Canada Legalize the Medicinal Use of Cocaine?</td>\n",
       "      <td>Labeled Satire</td>\n",
       "      <td>NaN</td>\n",
       "      <td>NaN</td>\n",
       "      <td>NaN</td>\n",
       "    </tr>\n",
       "    <tr>\n",
       "      <th>4</th>\n",
       "      <td>4</td>\n",
       "      <td>NaN</td>\n",
       "      <td>snopes</td>\n",
       "      <td>NaN</td>\n",
       "      <td>In September 2019, U.S. President Donald Trump...</td>\n",
       "      <td>2019-10-04</td>\n",
       "      <td>snopes</td>\n",
       "      <td>https://www.snopes.com/fact-check/trump-autism...</td>\n",
       "      <td>NaN</td>\n",
       "      <td>NaN</td>\n",
       "      <td>...</td>\n",
       "      <td>[{\"id\" : 4848272\",\"\"begin\": 121,\"end\": 133,\"en...</td>\n",
       "      <td>[{\"id\" : 4848272\",\"\"begin\": 31,\"end\": 43,\"enti...</td>\n",
       "      <td>[]</td>\n",
       "      <td>http://archive.is/ymlJP,http://archive.is/JgYP...</td>\n",
       "      <td>NaN</td>\n",
       "      <td>Did Donald Trump Sign a $1.8 Billion Autism-Se...</td>\n",
       "      <td>True</td>\n",
       "      <td>NaN</td>\n",
       "      <td>NaN</td>\n",
       "      <td>NaN</td>\n",
       "    </tr>\n",
       "  </tbody>\n",
       "</table>\n",
       "<p>5 rows × 23 columns</p>\n",
       "</div>"
      ],
      "text/plain": [
       "   Unnamed: 0  claimReview_author claimReview_author_name  \\\n",
       "0           0                 NaN                  snopes   \n",
       "1           1                 NaN                  snopes   \n",
       "2           2                 NaN                  snopes   \n",
       "3           3                 NaN                  snopes   \n",
       "4           4                 NaN                  snopes   \n",
       "\n",
       "   claimReview_author_url                          claimReview_claimReviewed  \\\n",
       "0                     NaN  Finnish President Sauli Niinistö posted a vide...   \n",
       "1                     NaN  A supporter of U.S. Rep. Alexandria Ocasio-Cor...   \n",
       "2                     NaN  A photograph shows a bride and groom during a ...   \n",
       "3                     NaN     Canada legalized the medicinal use of cocaine.   \n",
       "4                     NaN  In September 2019, U.S. President Donald Trump...   \n",
       "\n",
       "  claimReview_datePublished claimReview_source  \\\n",
       "0                2019-10-07             snopes   \n",
       "1                2019-10-04             snopes   \n",
       "2                2019-10-04             snopes   \n",
       "3                2019-10-04             snopes   \n",
       "4                2019-10-04             snopes   \n",
       "\n",
       "                                     claimReview_url creativeWork_author_name  \\\n",
       "0  https://www.snopes.com/fact-check/president-fi...                      NaN   \n",
       "1  https://www.snopes.com/fact-check/babies-clima...                      NaN   \n",
       "2  https://www.snopes.com/fact-check/handmaid-tal...                      NaN   \n",
       "3  https://www.snopes.com/fact-check/medicinal-co...                      NaN   \n",
       "4  https://www.snopes.com/fact-check/trump-autism...                      NaN   \n",
       "\n",
       "  creativeWork_author_sameAs  ...  \\\n",
       "0                        NaN  ...   \n",
       "1                        NaN  ...   \n",
       "2                        NaN  ...   \n",
       "3                        NaN  ...   \n",
       "4                        NaN  ...   \n",
       "\n",
       "                                 extra_entities_body  \\\n",
       "0  [{\"id\" : 33057\",\"\"begin\": 46,\"end\": 57,\"entity...   \n",
       "1  [{\"id\" : 645042\",\"\"begin\": 33,\"end\": 46,\"entit...   \n",
       "2  [{\"id\" : 50430110\",\"\"begin\": 91,\"end\": 106,\"en...   \n",
       "3  [{\"id\" : 7701\",\"\"begin\": 96,\"end\": 103,\"entity...   \n",
       "4  [{\"id\" : 4848272\",\"\"begin\": 121,\"end\": 133,\"en...   \n",
       "\n",
       "            extra_entities_claimReview_claimReviewed extra_entities_keywords  \\\n",
       "0  [{\"id\" : 1042690\",\"\"begin\": 18,\"end\": 32,\"enti...                      []   \n",
       "1  [{\"id\" : 54885332\",\"\"begin\": 22,\"end\": 45,\"ent...                      []   \n",
       "2  [{\"id\" : 50430110\",\"\"begin\": 46,\"end\": 61,\"ent...                      []   \n",
       "3  [{\"id\" : 7701\",\"\"begin\": 38,\"end\": 45,\"entity\"...                      []   \n",
       "4  [{\"id\" : 4848272\",\"\"begin\": 31,\"end\": 43,\"enti...                      []   \n",
       "\n",
       "                                 extra_refered_links extra_tags  \\\n",
       "0  https://t.co/Oo5Q56ALAu,https://twitter.com/ia...        NaN   \n",
       "1  https://twitter.com/redsteeze/status/117991491...        NaN   \n",
       "2  https://twitter.com/God_loves_women/status/117...        NaN   \n",
       "3  https://web.archive.org/web/20191004171021/htt...        NaN   \n",
       "4  http://archive.is/ymlJP,http://archive.is/JgYP...        NaN   \n",
       "\n",
       "                                         extra_title rating_alternateName  \\\n",
       "0  Did the President of Finland Post a Video Resp...                False   \n",
       "1  Did an AOC Supporter Suggest ‘Eating Babies’ t...              Mixture   \n",
       "2  Is This a Photo of a ‘Handmaid’s Tale’-Themed ...         Miscaptioned   \n",
       "3  Did Canada Legalize the Medicinal Use of Cocaine?       Labeled Satire   \n",
       "4  Did Donald Trump Sign a $1.8 Billion Autism-Se...                 True   \n",
       "\n",
       "  rating_bestRating rating_ratingValue rating_worstRating  \n",
       "0               NaN                NaN                NaN  \n",
       "1               NaN                NaN                NaN  \n",
       "2               NaN                NaN                NaN  \n",
       "3               NaN                NaN                NaN  \n",
       "4               NaN                NaN                NaN  \n",
       "\n",
       "[5 rows x 23 columns]"
      ]
     },
     "execution_count": 1,
     "metadata": {},
     "output_type": "execute_result"
    }
   ],
   "source": [
    "import pandas as pd\n",
    "\n",
    "df = pd.read_csv(\"../Datasets/claim_extraction_18_10_2019_annotated.csv\")\n",
    "df.head()"
   ]
  },
  {
   "cell_type": "markdown",
   "id": "82ecf656",
   "metadata": {},
   "source": [
    "## Take a quick look at this DataFrame"
   ]
  },
  {
   "cell_type": "code",
   "execution_count": 2,
   "id": "c3827351",
   "metadata": {
    "ExecuteTime": {
     "end_time": "2021-06-15T18:25:53.323524Z",
     "start_time": "2021-06-15T18:25:53.282100Z"
    }
   },
   "outputs": [
    {
     "data": {
      "text/plain": [
       "(39218, 23)"
      ]
     },
     "execution_count": 2,
     "metadata": {},
     "output_type": "execute_result"
    }
   ],
   "source": [
    "df.shape"
   ]
  },
  {
   "cell_type": "code",
   "execution_count": 3,
   "id": "c1717016",
   "metadata": {
    "ExecuteTime": {
     "end_time": "2021-06-15T18:25:53.391455Z",
     "start_time": "2021-06-15T18:25:53.374644Z"
    }
   },
   "outputs": [
    {
     "data": {
      "text/plain": [
       "Index(['Unnamed: 0', 'claimReview_author', 'claimReview_author_name',\n",
       "       'claimReview_author_url', 'claimReview_claimReviewed',\n",
       "       'claimReview_datePublished', 'claimReview_source', 'claimReview_url',\n",
       "       'creativeWork_author_name', 'creativeWork_author_sameAs',\n",
       "       'creativeWork_datePublished', 'extra_body', 'extra_entities_author',\n",
       "       'extra_entities_body', 'extra_entities_claimReview_claimReviewed',\n",
       "       'extra_entities_keywords', 'extra_refered_links', 'extra_tags',\n",
       "       'extra_title', 'rating_alternateName', 'rating_bestRating',\n",
       "       'rating_ratingValue', 'rating_worstRating'],\n",
       "      dtype='object')"
      ]
     },
     "execution_count": 3,
     "metadata": {},
     "output_type": "execute_result"
    }
   ],
   "source": [
    "df.columns"
   ]
  },
  {
   "cell_type": "code",
   "execution_count": 4,
   "id": "154d96fd",
   "metadata": {
    "ExecuteTime": {
     "end_time": "2021-06-15T18:25:53.439422Z",
     "start_time": "2021-06-15T18:25:53.416124Z"
    }
   },
   "outputs": [
    {
     "data": {
      "text/plain": [
       "0    On Oct. 2, 2019, a joint press conference at t...\n",
       "1    An Oct. 3, 2019, town hall event in New York C...\n",
       "2    In October 2019, a photograph supposedly showi...\n",
       "3    On Sep. 20, 2019, Huzlers published an article...\n",
       "4    We received multiple inquiries from readers in...\n",
       "Name: extra_body, dtype: object"
      ]
     },
     "execution_count": 4,
     "metadata": {},
     "output_type": "execute_result"
    }
   ],
   "source": [
    "df.extra_body.head()"
   ]
  },
  {
   "cell_type": "code",
   "execution_count": 5,
   "id": "7f03aa8c",
   "metadata": {
    "ExecuteTime": {
     "end_time": "2021-06-15T18:25:53.493085Z",
     "start_time": "2021-06-15T18:25:53.446780Z"
    }
   },
   "outputs": [
    {
     "data": {
      "text/plain": [
       "9"
      ]
     },
     "execution_count": 5,
     "metadata": {},
     "output_type": "execute_result"
    }
   ],
   "source": [
    "len(df.claimReview_source.unique())"
   ]
  },
  {
   "cell_type": "code",
   "execution_count": 6,
   "id": "b0dee769",
   "metadata": {
    "ExecuteTime": {
     "end_time": "2021-06-15T18:25:53.537914Z",
     "start_time": "2021-06-15T18:25:53.512101Z"
    }
   },
   "outputs": [
    {
     "data": {
      "text/plain": [
       "snopes            18475\n",
       "politifact        16493\n",
       "truthorfiction     1361\n",
       "checkyourfact       841\n",
       "factcheck_afp       679\n",
       "africacheck         629\n",
       "fullfact            349\n",
       "factuel_afp_fr      266\n",
       "factscan            125\n",
       "Name: claimReview_source, dtype: int64"
      ]
     },
     "execution_count": 6,
     "metadata": {},
     "output_type": "execute_result"
    }
   ],
   "source": [
    "df.claimReview_source.value_counts()"
   ]
  },
  {
   "cell_type": "code",
   "execution_count": 7,
   "id": "a8463a58",
   "metadata": {
    "ExecuteTime": {
     "end_time": "2021-06-15T18:25:53.572474Z",
     "start_time": "2021-06-15T18:25:53.546809Z"
    }
   },
   "outputs": [
    {
     "data": {
      "text/plain": [
       "459"
      ]
     },
     "execution_count": 7,
     "metadata": {},
     "output_type": "execute_result"
    }
   ],
   "source": [
    "len(df.rating_alternateName.unique())"
   ]
  },
  {
   "cell_type": "code",
   "execution_count": 8,
   "id": "e29856b2",
   "metadata": {
    "ExecuteTime": {
     "end_time": "2021-06-15T18:25:53.638728Z",
     "start_time": "2021-06-15T18:25:53.616166Z"
    }
   },
   "outputs": [
    {
     "data": {
      "text/plain": [
       "False             11393\n",
       "True               4183\n",
       "Mostly False       3226\n",
       "Mostly True        3223\n",
       "Mixture            3165\n",
       "Half-True          2725\n",
       "FALSE              1594\n",
       "Pants on Fire!     1308\n",
       "Labeled Satire     1257\n",
       "Unproven            550\n",
       "Pants on Fire       489\n",
       "TRUE                404\n",
       "Half True           403\n",
       "Miscaptioned        297\n",
       "Not True            296\n",
       "Legend              280\n",
       "Fiction!            263\n",
       "LEGEND              247\n",
       "incorrect           231\n",
       "Faux                179\n",
       "Name: rating_alternateName, dtype: int64"
      ]
     },
     "execution_count": 8,
     "metadata": {},
     "output_type": "execute_result"
    }
   ],
   "source": [
    "df.rating_alternateName.value_counts().head(20)"
   ]
  },
  {
   "cell_type": "markdown",
   "id": "dfe6c327",
   "metadata": {},
   "source": [
    "# Text Cleaning\n",
    "\n",
    "## Generate columns of `label_2c` and `label_3c` according to column `rating_alternateName`"
   ]
  },
  {
   "cell_type": "code",
   "execution_count": 9,
   "id": "265df64f",
   "metadata": {
    "ExecuteTime": {
     "end_time": "2021-06-15T18:25:53.728871Z",
     "start_time": "2021-06-15T18:25:53.650607Z"
    }
   },
   "outputs": [],
   "source": [
    "from enum import Enum\n",
    "from typing import Dict\n",
    "\n",
    "\n",
    "class NormalizedRatings(Enum):\n",
    "    FALSE = 1\n",
    "    MIXTURE = 2\n",
    "    TRUE = 3\n",
    "    OTHER = -1\n",
    "\n",
    "\n",
    "_normalization_dictionary = {  # type: Dict[str, Dict[str,NormalizedRatings]]\n",
    "\n",
    "    \"politifact\": {  # type: Dict[str,NormalizedRatings]\n",
    "        'incorrect': NormalizedRatings.FALSE,\n",
    "        'pants-fire': NormalizedRatings.FALSE,\n",
    "        'pants on fire': NormalizedRatings.FALSE,\n",
    "        'pants on fire!': NormalizedRatings.FALSE,\n",
    "        'false': NormalizedRatings.FALSE,\n",
    "        'mostly correct': NormalizedRatings.MIXTURE,\n",
    "        'mostly false': NormalizedRatings.MIXTURE,\n",
    "        'barely true': NormalizedRatings.MIXTURE,\n",
    "        'half true': NormalizedRatings.MIXTURE,\n",
    "        'half-true': NormalizedRatings.MIXTURE,\n",
    "        'mostly true': NormalizedRatings.MIXTURE,\n",
    "        'true': NormalizedRatings.TRUE,\n",
    "        'correct': NormalizedRatings.TRUE\n",
    "    },\n",
    "    \"snopes\": {  # type: Dict[str,NormalizedRatings]\n",
    "        'false': NormalizedRatings.FALSE,\n",
    "        'legend': NormalizedRatings.FALSE,\n",
    "        'mixture': NormalizedRatings.MIXTURE,\n",
    "        'mixture:': NormalizedRatings.MIXTURE,\n",
    "        'true': NormalizedRatings.TRUE,\n",
    "        'mostly false': NormalizedRatings.MIXTURE,\n",
    "        'mostly true': NormalizedRatings.MIXTURE,\n",
    "        'partly true': NormalizedRatings.MIXTURE,\n",
    "        'MIXTURE OF TRUE AND FALSE INFORMATION': NormalizedRatings.MIXTURE,\n",
    "        'MIXTURE OF TRUE AND FALSE INFORMATION:': NormalizedRatings.MIXTURE,\n",
    "        'MIXTURE OF ACCURATE AND  INACCURATE INFORMATION': NormalizedRatings.MIXTURE\n",
    "    },\n",
    "    \"africacheck\": {  # type: Dict[str,NormalizedRatings]\n",
    "        'incorrect': NormalizedRatings.FALSE,\n",
    "        'mostly-correct': NormalizedRatings.MIXTURE,\n",
    "        'correct': NormalizedRatings.TRUE\n",
    "    },\n",
    "    \"factscan\": {  # type: Dict[str,NormalizedRatings]\n",
    "        'false': NormalizedRatings.FALSE,\n",
    "        'true': NormalizedRatings.TRUE,\n",
    "        'Misleading': NormalizedRatings.OTHER\n",
    "    },\n",
    "    \"truthorfiction\": {  # type: Dict[str,NormalizedRatings]\n",
    "        'fiction': NormalizedRatings.FALSE,\n",
    "        'truth': NormalizedRatings.TRUE,\n",
    "        'truth & fiction': NormalizedRatings.MIXTURE,\n",
    "        'mostly fiction': NormalizedRatings.MIXTURE,\n",
    "        'truth & misleading': NormalizedRatings.MIXTURE,\n",
    "        'mostly truth': NormalizedRatings.MIXTURE\n",
    "    },\n",
    "    \"checkyourfact\": {  # type: Dict[str,NormalizedRatings]\n",
    "        'False': NormalizedRatings.FALSE,\n",
    "        'True': NormalizedRatings.TRUE,\n",
    "        'Mostly True': NormalizedRatings.MIXTURE,\n",
    "        'true/false': NormalizedRatings.MIXTURE,\n",
    "        'truth & misleading': NormalizedRatings.MIXTURE,\n",
    "        'mostly truth': NormalizedRatings.MIXTURE,\n",
    "        'misleading': NormalizedRatings.MIXTURE\n",
    "    },\n",
    "    \"factcheck_aap\": {\n",
    "        \"True\": NormalizedRatings.TRUE,\n",
    "        \"False\": NormalizedRatings.FALSE,\n",
    "        \"Mostly True\": NormalizedRatings.MIXTURE,\n",
    "        \"Mostly False\": NormalizedRatings.MIXTURE,\n",
    "        \"Somewhat True\": NormalizedRatings.MIXTURE,\n",
    "        \"Somewhat False\": NormalizedRatings.MIXTURE\n",
    "    },\n",
    "    \"factuel_afp_fr\": {\n",
    "        'Faux': NormalizedRatings.FALSE,\n",
    "        'Totalement faux': NormalizedRatings.FALSE,\n",
    "        'Démenti': NormalizedRatings.FALSE,\n",
    "        \"C'est une oeuvre de fiction\": NormalizedRatings.FALSE,\n",
    "        'Vrai': NormalizedRatings.TRUE,\n",
    "        'Totalement Vrai': NormalizedRatings.TRUE,\n",
    "        'Plutôt vrai': NormalizedRatings.MIXTURE,\n",
    "        'Trompeur': NormalizedRatings.MIXTURE,\n",
    "        'trompeur': NormalizedRatings.MIXTURE,\n",
    "        'Plutôt faux': NormalizedRatings.MIXTURE,\n",
    "        'Presque': NormalizedRatings.MIXTURE,\n",
    "        'Mélangé': NormalizedRatings.MIXTURE,\n",
    "        'Mélange': NormalizedRatings.MIXTURE,\n",
    "        'Inexact': NormalizedRatings.MIXTURE,\n",
    "        'Incertain': NormalizedRatings.MIXTURE,\n",
    "        'Imprécis': NormalizedRatings.MIXTURE,\n",
    "        'Exagéré': NormalizedRatings.MIXTURE,\n",
    "        'Douteux': NormalizedRatings.MIXTURE,\n",
    "\n",
    "    },\n",
    "    \"factcheck_afp\": {\n",
    "        'False': NormalizedRatings.FALSE,\n",
    "        'Fake': NormalizedRatings.FALSE,\n",
    "        'Mixed': NormalizedRatings.MIXTURE,\n",
    "        'Hoax': NormalizedRatings.FALSE,\n",
    "        'Falso': NormalizedRatings.FALSE,\n",
    "        'APRIL FOOL': NormalizedRatings.FALSE\n",
    "    },\n",
    "    \"fullfact\": {\n",
    "        'Correct': NormalizedRatings.TRUE,\n",
    "        'Incorrect': NormalizedRatings.FALSE,\n",
    "        'Not quite': NormalizedRatings.MIXTURE\n",
    "    }\n",
    "}\n",
    "\n",
    "\n",
    "def _standardize_name(original_name: str):\n",
    "    return original_name.strip().lower().replace(\"!\", \"\").replace(\":\", \"\").replace(\"-\", \" \")\n",
    "\n",
    "\n",
    "def normalize(source_name, original_name) -> NormalizedRatings:\n",
    "    \"\"\"\n",
    "        Generate a normalized rating from the original ratings on each respective site\n",
    "    :param original_name:\n",
    "    :return normalized_rating: NormalizedRating\n",
    "    \"\"\"\n",
    "    try:\n",
    "        source = _normalization_dictionary[source_name]\n",
    "        normalized_value = source[_standardize_name(original_name)]\n",
    "    except KeyError:\n",
    "        normalized_value = NormalizedRatings.OTHER\n",
    "    return normalized_value"
   ]
  },
  {
   "cell_type": "code",
   "execution_count": 10,
   "id": "dd10c54c",
   "metadata": {
    "ExecuteTime": {
     "end_time": "2021-06-15T18:25:57.408628Z",
     "start_time": "2021-06-15T18:25:53.751267Z"
    }
   },
   "outputs": [
    {
     "data": {
      "text/plain": [
       "4"
      ]
     },
     "execution_count": 10,
     "metadata": {},
     "output_type": "execute_result"
    }
   ],
   "source": [
    "df['NormalizedRatings'] = df.apply(lambda x: normalize(x.claimReview_source,\n",
    "                                                       str(x.rating_alternateName)).value, axis=1)\n",
    "len(df['NormalizedRatings'].unique())"
   ]
  },
  {
   "cell_type": "code",
   "execution_count": 11,
   "id": "a8b33699",
   "metadata": {
    "ExecuteTime": {
     "end_time": "2021-06-15T18:25:57.444864Z",
     "start_time": "2021-06-15T18:25:57.417624Z"
    }
   },
   "outputs": [
    {
     "data": {
      "text/plain": [
       " 1    14663\n",
       " 2    13110\n",
       "-1     7013\n",
       " 3     4432\n",
       "Name: NormalizedRatings, dtype: int64"
      ]
     },
     "execution_count": 11,
     "metadata": {},
     "output_type": "execute_result"
    }
   ],
   "source": [
    "df['NormalizedRatings'].value_counts()"
   ]
  },
  {
   "cell_type": "code",
   "execution_count": 12,
   "id": "c8faf083",
   "metadata": {
    "ExecuteTime": {
     "end_time": "2021-06-15T18:25:57.680149Z",
     "start_time": "2021-06-15T18:25:57.467947Z"
    }
   },
   "outputs": [
    {
     "data": {
      "text/html": [
       "<div>\n",
       "<style scoped>\n",
       "    .dataframe tbody tr th:only-of-type {\n",
       "        vertical-align: middle;\n",
       "    }\n",
       "\n",
       "    .dataframe tbody tr th {\n",
       "        vertical-align: top;\n",
       "    }\n",
       "\n",
       "    .dataframe thead th {\n",
       "        text-align: right;\n",
       "    }\n",
       "</style>\n",
       "<table border=\"1\" class=\"dataframe\">\n",
       "  <thead>\n",
       "    <tr style=\"text-align: right;\">\n",
       "      <th></th>\n",
       "      <th>NormalizedRatings</th>\n",
       "      <th>label_2c</th>\n",
       "      <th>label_3c</th>\n",
       "    </tr>\n",
       "  </thead>\n",
       "  <tbody>\n",
       "    <tr>\n",
       "      <th>0</th>\n",
       "      <td>1</td>\n",
       "      <td>TRUE or FALSE</td>\n",
       "      <td>FALSE</td>\n",
       "    </tr>\n",
       "    <tr>\n",
       "      <th>1</th>\n",
       "      <td>2</td>\n",
       "      <td>MIXTURE</td>\n",
       "      <td>MIXTURE</td>\n",
       "    </tr>\n",
       "    <tr>\n",
       "      <th>2</th>\n",
       "      <td>-1</td>\n",
       "      <td>OTHER</td>\n",
       "      <td>OTHER</td>\n",
       "    </tr>\n",
       "    <tr>\n",
       "      <th>3</th>\n",
       "      <td>-1</td>\n",
       "      <td>OTHER</td>\n",
       "      <td>OTHER</td>\n",
       "    </tr>\n",
       "    <tr>\n",
       "      <th>4</th>\n",
       "      <td>3</td>\n",
       "      <td>TRUE or FALSE</td>\n",
       "      <td>TRUE</td>\n",
       "    </tr>\n",
       "  </tbody>\n",
       "</table>\n",
       "</div>"
      ],
      "text/plain": [
       "   NormalizedRatings       label_2c label_3c\n",
       "0                  1  TRUE or FALSE    FALSE\n",
       "1                  2        MIXTURE  MIXTURE\n",
       "2                 -1          OTHER    OTHER\n",
       "3                 -1          OTHER    OTHER\n",
       "4                  3  TRUE or FALSE     TRUE"
      ]
     },
     "execution_count": 12,
     "metadata": {},
     "output_type": "execute_result"
    }
   ],
   "source": [
    "conversion_dict_2c = {\n",
    "    1: 'TRUE or FALSE',\n",
    "    2: 'MIXTURE',\n",
    "    3: 'TRUE or FALSE',\n",
    "    -1: 'OTHER'\n",
    "}\n",
    "\n",
    "conversion_dict_3c = {\n",
    "    1: 'FALSE',\n",
    "    2: 'MIXTURE',\n",
    "    3: 'TRUE',\n",
    "    -1: 'OTHER'\n",
    "}\n",
    "\n",
    "df['label_2c'] = df['NormalizedRatings'].replace(conversion_dict_2c)\n",
    "df['label_3c'] = df['NormalizedRatings'].replace(conversion_dict_3c)\n",
    "\n",
    "df[['NormalizedRatings', 'label_2c', 'label_3c']].head()"
   ]
  },
  {
   "cell_type": "markdown",
   "id": "7d86785a",
   "metadata": {
    "ExecuteTime": {
     "end_time": "2021-06-14T21:24:19.486461Z",
     "start_time": "2021-06-14T21:24:19.465791Z"
    }
   },
   "source": [
    "## Check for missing values and remove missing values"
   ]
  },
  {
   "cell_type": "code",
   "execution_count": 13,
   "id": "31a98527",
   "metadata": {
    "ExecuteTime": {
     "end_time": "2021-06-15T18:25:57.883821Z",
     "start_time": "2021-06-15T18:25:57.687591Z"
    }
   },
   "outputs": [
    {
     "data": {
      "text/plain": [
       "Unnamed: 0                                      0\n",
       "claimReview_author                          39218\n",
       "claimReview_author_name                         0\n",
       "claimReview_author_url                      39218\n",
       "claimReview_claimReviewed                       2\n",
       "claimReview_datePublished                    1305\n",
       "claimReview_source                              0\n",
       "claimReview_url                                 0\n",
       "creativeWork_author_name                    21737\n",
       "creativeWork_author_sameAs                  37908\n",
       "creativeWork_datePublished                  21671\n",
       "extra_body                                    352\n",
       "extra_entities_author                           0\n",
       "extra_entities_body                             0\n",
       "extra_entities_claimReview_claimReviewed        0\n",
       "extra_entities_keywords                         0\n",
       "extra_refered_links                          3825\n",
       "extra_tags                                   8979\n",
       "extra_title                                   349\n",
       "rating_alternateName                          254\n",
       "rating_bestRating                           35786\n",
       "rating_ratingValue                          35786\n",
       "rating_worstRating                          36054\n",
       "NormalizedRatings                               0\n",
       "label_2c                                        0\n",
       "label_3c                                        0\n",
       "dtype: int64"
      ]
     },
     "execution_count": 13,
     "metadata": {},
     "output_type": "execute_result"
    }
   ],
   "source": [
    "df.isnull().sum()"
   ]
  },
  {
   "cell_type": "code",
   "execution_count": 14,
   "id": "34a1098e",
   "metadata": {
    "ExecuteTime": {
     "end_time": "2021-06-15T18:25:57.921063Z",
     "start_time": "2021-06-15T18:25:57.899506Z"
    }
   },
   "outputs": [
    {
     "data": {
      "text/plain": [
       "352"
      ]
     },
     "execution_count": 14,
     "metadata": {},
     "output_type": "execute_result"
    }
   ],
   "source": [
    "df['extra_body'].isnull().sum()"
   ]
  },
  {
   "cell_type": "code",
   "execution_count": 15,
   "id": "9933b541",
   "metadata": {
    "ExecuteTime": {
     "end_time": "2021-06-15T18:25:58.075596Z",
     "start_time": "2021-06-15T18:25:57.927488Z"
    }
   },
   "outputs": [
    {
     "data": {
      "text/plain": [
       "(38866, 26)"
      ]
     },
     "execution_count": 15,
     "metadata": {},
     "output_type": "execute_result"
    }
   ],
   "source": [
    "df.dropna(subset=['extra_body'], inplace=True)\n",
    "df.shape"
   ]
  },
  {
   "cell_type": "markdown",
   "id": "085aa1cb",
   "metadata": {},
   "source": [
    "# Pre-Processing\n",
    "\n",
    "## Tokening the data with spaCy"
   ]
  },
  {
   "cell_type": "code",
   "execution_count": 16,
   "id": "ab2e4cb4",
   "metadata": {
    "ExecuteTime": {
     "end_time": "2021-06-15T18:25:58.100409Z",
     "start_time": "2021-06-15T18:25:58.084911Z"
    }
   },
   "outputs": [],
   "source": [
    "# !python -m spacy download en_core_web_lg"
   ]
  },
  {
   "cell_type": "code",
   "execution_count": 17,
   "id": "defc5ea9",
   "metadata": {
    "ExecuteTime": {
     "end_time": "2021-06-15T18:26:23.575431Z",
     "start_time": "2021-06-15T18:25:58.108782Z"
    }
   },
   "outputs": [],
   "source": [
    "import spacy\n",
    "\n",
    "nlp = spacy.load('en_core_web_lg')"
   ]
  },
  {
   "cell_type": "code",
   "execution_count": 18,
   "id": "ffe83129",
   "metadata": {
    "ExecuteTime": {
     "end_time": "2021-06-15T18:26:23.662304Z",
     "start_time": "2021-06-15T18:26:23.629374Z"
    }
   },
   "outputs": [],
   "source": [
    "import string\n",
    "from spacy.lang.en.stop_words import STOP_WORDS\n",
    "\n",
    "punctuations = string.punctuation\n",
    "stop_words = STOP_WORDS\n",
    "\n",
    "\n",
    "def spacy_tokenizer(sentence):\n",
    "    mytokens = nlp(sentence)\n",
    "    # Lemmatizing each token and converting each token into lowercase\n",
    "    mytokens = [word.lemma_.lower().strip() if word.lemma_ !=\n",
    "                \"-PRON-\" else word.lower_ for word in mytokens]\n",
    "    # Removing stop words\n",
    "    mytokens = [\n",
    "        word for word in mytokens if word not in stop_words and word not in punctuations]\n",
    "    return mytokens"
   ]
  },
  {
   "cell_type": "code",
   "execution_count": 19,
   "id": "513e955f",
   "metadata": {
    "ExecuteTime": {
     "end_time": "2021-06-15T18:26:23.696871Z",
     "start_time": "2021-06-15T18:26:23.674724Z"
    }
   },
   "outputs": [
    {
     "data": {
      "text/plain": [
       "3261"
      ]
     },
     "execution_count": 19,
     "metadata": {},
     "output_type": "execute_result"
    }
   ],
   "source": [
    "len(df['extra_body'][1])"
   ]
  },
  {
   "cell_type": "code",
   "execution_count": 20,
   "id": "624e86fd",
   "metadata": {
    "ExecuteTime": {
     "end_time": "2021-06-15T18:26:24.544938Z",
     "start_time": "2021-06-15T18:26:23.715815Z"
    }
   },
   "outputs": [
    {
     "data": {
      "text/plain": [
       "296"
      ]
     },
     "execution_count": 20,
     "metadata": {},
     "output_type": "execute_result"
    }
   ],
   "source": [
    "len(spacy_tokenizer(df['extra_body'][1]))"
   ]
  },
  {
   "cell_type": "markdown",
   "id": "2bbeabfb",
   "metadata": {},
   "source": [
    "## Defining a custom transformer"
   ]
  },
  {
   "cell_type": "code",
   "execution_count": 21,
   "id": "0471ec53",
   "metadata": {
    "ExecuteTime": {
     "end_time": "2021-06-15T18:26:27.104151Z",
     "start_time": "2021-06-15T18:26:24.555145Z"
    }
   },
   "outputs": [],
   "source": [
    "from sklearn.base import TransformerMixin\n",
    "\n",
    "\n",
    "class predictors(TransformerMixin):\n",
    "    def transform(self, X, **transform_params):\n",
    "        return [clean_text(text) for text in X]\n",
    "\n",
    "    def fit(self, X, y=None, **fit_params):\n",
    "        return self\n",
    "\n",
    "    def get_params(self, deep=True):\n",
    "        return {}\n",
    "\n",
    "\n",
    "def clean_text(text):\n",
    "    # Removing spaces and converting text into lowercase\n",
    "    return text.strip().lower()"
   ]
  },
  {
   "cell_type": "markdown",
   "id": "4477bad8",
   "metadata": {
    "ExecuteTime": {
     "end_time": "2021-06-15T14:18:36.316568Z",
     "start_time": "2021-06-15T14:18:35.989985Z"
    }
   },
   "source": [
    "# Feature Engineering\n",
    "\n",
    "## Vectorization feature engineering (Bag of Words)"
   ]
  },
  {
   "cell_type": "code",
   "execution_count": 22,
   "id": "ea74af31",
   "metadata": {
    "ExecuteTime": {
     "end_time": "2021-06-15T18:26:27.222108Z",
     "start_time": "2021-06-15T18:26:27.149016Z"
    }
   },
   "outputs": [],
   "source": [
    "from sklearn.feature_extraction.text import CountVectorizer\n",
    "\n",
    "bow_vector = CountVectorizer(tokenizer=spacy_tokenizer, ngram_range=(1, 2))"
   ]
  },
  {
   "cell_type": "markdown",
   "id": "ba1437a5",
   "metadata": {},
   "source": [
    "## Vectorization feature engineering (TF-IDF)"
   ]
  },
  {
   "cell_type": "code",
   "execution_count": 23,
   "id": "3cdb9d66",
   "metadata": {
    "ExecuteTime": {
     "end_time": "2021-06-15T18:26:27.311038Z",
     "start_time": "2021-06-15T18:26:27.304630Z"
    }
   },
   "outputs": [],
   "source": [
    "from sklearn.feature_extraction.text import TfidfVectorizer\n",
    "\n",
    "tfidf_vector = TfidfVectorizer(tokenizer=spacy_tokenizer, ngram_range=(1, 2))"
   ]
  },
  {
   "cell_type": "markdown",
   "id": "8d3f920a",
   "metadata": {
    "ExecuteTime": {
     "end_time": "2021-06-15T11:40:18.772514Z",
     "start_time": "2021-06-15T11:40:18.748943Z"
    }
   },
   "source": [
    "# Modeling\n",
    "\n",
    "## Split the data into train & test sets"
   ]
  },
  {
   "cell_type": "code",
   "execution_count": 24,
   "id": "922d5c26",
   "metadata": {
    "ExecuteTime": {
     "end_time": "2021-06-15T18:26:27.596895Z",
     "start_time": "2021-06-15T18:26:27.341652Z"
    }
   },
   "outputs": [],
   "source": [
    "from sklearn.model_selection import train_test_split\n",
    "\n",
    "X = df.drop(['label_2c', 'label_3c'], axis=1)"
   ]
  },
  {
   "cell_type": "markdown",
   "id": "711154b5",
   "metadata": {},
   "source": [
    "### y = `label_2c`"
   ]
  },
  {
   "cell_type": "code",
   "execution_count": 25,
   "id": "7011a49b",
   "metadata": {
    "ExecuteTime": {
     "end_time": "2021-06-15T18:26:27.758008Z",
     "start_time": "2021-06-15T18:26:27.626139Z"
    }
   },
   "outputs": [],
   "source": [
    "y = df['label_2c']\n",
    "\n",
    "X_2c_train, X_2c_test, y_2c_train, y_2c_test = train_test_split(\n",
    "    X, y, test_size=0.33, random_state=42)"
   ]
  },
  {
   "cell_type": "markdown",
   "id": "dddf3e2e",
   "metadata": {},
   "source": [
    "### y = `label_3c`"
   ]
  },
  {
   "cell_type": "code",
   "execution_count": 26,
   "id": "6a250590",
   "metadata": {
    "ExecuteTime": {
     "end_time": "2021-06-15T18:26:27.911626Z",
     "start_time": "2021-06-15T18:26:27.769599Z"
    }
   },
   "outputs": [],
   "source": [
    "y = df['label_3c']\n",
    "\n",
    "X_3c_train, X_3c_test, y_3c_train, y_3c_test = train_test_split(\n",
    "    X, y, test_size=0.33, random_state=42)"
   ]
  },
  {
   "cell_type": "markdown",
   "id": "a8d279b8",
   "metadata": {
    "ExecuteTime": {
     "end_time": "2021-06-15T11:53:38.080161Z",
     "start_time": "2021-06-15T11:53:37.957464Z"
    }
   },
   "source": [
    "## Creating a pipeline and generating the model"
   ]
  },
  {
   "cell_type": "code",
   "execution_count": 27,
   "id": "38edf7cd",
   "metadata": {
    "ExecuteTime": {
     "end_time": "2021-06-16T00:57:26.839802Z",
     "start_time": "2021-06-15T18:26:27.925031Z"
    }
   },
   "outputs": [
    {
     "data": {
      "text/plain": [
       "Pipeline(steps=[('cleaner', <__main__.predictors object at 0x7fc8a396ed50>),\n",
       "                ('vectorizer',\n",
       "                 CountVectorizer(ngram_range=(1, 2),\n",
       "                                 tokenizer=<function spacy_tokenizer at 0x7fc8b89b5f80>)),\n",
       "                ('classifier', MultinomialNB())])"
      ]
     },
     "execution_count": 27,
     "metadata": {},
     "output_type": "execute_result"
    }
   ],
   "source": [
    "from sklearn.pipeline import Pipeline\n",
    "from sklearn.naive_bayes import MultinomialNB\n",
    "classifier = MultinomialNB()\n",
    "\n",
    "pipe_2c_NB = Pipeline([(\"cleaner\", predictors()),\n",
    "                       ('vectorizer', bow_vector),\n",
    "                       ('classifier', classifier)])\n",
    "\n",
    "pipe_2c_NB.fit(X_2c_train['extra_body'], y_2c_train)"
   ]
  },
  {
   "cell_type": "code",
   "execution_count": null,
   "id": "86cb896b",
   "metadata": {
    "ExecuteTime": {
     "start_time": "2021-06-15T18:25:37.285Z"
    }
   },
   "outputs": [],
   "source": [
    "from sklearn.svm import LinearSVC\n",
    "classifier = LinearSVC()\n",
    "\n",
    "pipe_3c_SVC = Pipeline([(\"cleaner\", predictors()),\n",
    "                        ('vectorizer', tfidf_vector),\n",
    "                        ('classifier', classifier)])\n",
    "\n",
    "pipe_3c_SVC.fit(X_3c_train['extra_body'], y_3c_train)"
   ]
  },
  {
   "cell_type": "markdown",
   "id": "956ea6fb",
   "metadata": {},
   "source": [
    "# Evaluation"
   ]
  },
  {
   "cell_type": "code",
   "execution_count": null,
   "id": "ae013058",
   "metadata": {
    "ExecuteTime": {
     "start_time": "2021-06-15T18:25:39.670Z"
    }
   },
   "outputs": [],
   "source": [
    "from sklearn import metrics\n",
    "\n",
    "predictions_2c_NB = pipe_2c_NB.predict(X_2c_test)\n",
    "print(metrics.confusion_matrix(y_2c_test, predictions_2c_NB))"
   ]
  },
  {
   "cell_type": "code",
   "execution_count": null,
   "id": "86b2cd2c",
   "metadata": {
    "ExecuteTime": {
     "start_time": "2021-06-15T18:25:39.850Z"
    }
   },
   "outputs": [],
   "source": [
    "print(metrics.classification_report(y_2c_test, predictions_2c_NB))"
   ]
  },
  {
   "cell_type": "code",
   "execution_count": null,
   "id": "362bd9fd",
   "metadata": {
    "ExecuteTime": {
     "start_time": "2021-06-15T18:25:40.024Z"
    }
   },
   "outputs": [],
   "source": [
    "print(metrics.accuracy_score(y_2c_test, predictions_2c_NB))"
   ]
  },
  {
   "cell_type": "code",
   "execution_count": null,
   "id": "3397d198",
   "metadata": {
    "ExecuteTime": {
     "start_time": "2021-06-15T18:25:40.158Z"
    }
   },
   "outputs": [],
   "source": [
    "predictions_3c_SVC = pipe_3c_SVC.predict(X_3c_test)\n",
    "print(metrics.confusion_matrix(y_3c_test, predictions_3c_SVC))"
   ]
  },
  {
   "cell_type": "code",
   "execution_count": null,
   "id": "e6474b64",
   "metadata": {
    "ExecuteTime": {
     "start_time": "2021-06-15T18:25:40.350Z"
    }
   },
   "outputs": [],
   "source": [
    "print(metrics.classification_report(y_3c_test, predictions_3c_SVC))"
   ]
  },
  {
   "cell_type": "code",
   "execution_count": null,
   "id": "69f4f090",
   "metadata": {
    "ExecuteTime": {
     "start_time": "2021-06-15T18:25:40.485Z"
    }
   },
   "outputs": [],
   "source": [
    "print(metrics.accuracy_score(y_3c_test, predictions_3c_SVC))"
   ]
  }
 ],
 "metadata": {
  "kernelspec": {
   "display_name": "Python 3",
   "language": "python",
   "name": "python3"
  },
  "language_info": {
   "codemirror_mode": {
    "name": "ipython",
    "version": 3
   },
   "file_extension": ".py",
   "mimetype": "text/x-python",
   "name": "python",
   "nbconvert_exporter": "python",
   "pygments_lexer": "ipython3",
   "version": "3.7.9"
  },
  "latex_envs": {
   "LaTeX_envs_menu_present": true,
   "autoclose": false,
   "autocomplete": true,
   "bibliofile": "biblio.bib",
   "cite_by": "apalike",
   "current_citInitial": 1,
   "eqLabelWithNumbers": true,
   "eqNumInitial": 1,
   "hotkeys": {
    "equation": "Ctrl-E",
    "itemize": "Ctrl-I"
   },
   "labels_anchors": false,
   "latex_user_defs": false,
   "report_style_numbering": false,
   "user_envs_cfg": false
  },
  "nbTranslate": {
   "displayLangs": [
    "*"
   ],
   "hotkey": "alt-t",
   "langInMainMenu": true,
   "sourceLang": "en",
   "targetLang": "fr",
   "useGoogleTranslate": true
  },
  "toc": {
   "base_numbering": 1,
   "nav_menu": {},
   "number_sections": true,
   "sideBar": true,
   "skip_h1_title": false,
   "title_cell": "Table of Contents",
   "title_sidebar": "Contents",
   "toc_cell": true,
   "toc_position": {
    "height": "495px",
    "left": "105px",
    "top": "134px",
    "width": "288px"
   },
   "toc_section_display": true,
   "toc_window_display": true
  },
  "varInspector": {
   "cols": {
    "lenName": 16,
    "lenType": 16,
    "lenVar": 40
   },
   "kernels_config": {
    "python": {
     "delete_cmd_postfix": "",
     "delete_cmd_prefix": "del ",
     "library": "var_list.py",
     "varRefreshCmd": "print(var_dic_list())"
    },
    "r": {
     "delete_cmd_postfix": ") ",
     "delete_cmd_prefix": "rm(",
     "library": "var_list.r",
     "varRefreshCmd": "cat(var_dic_list()) "
    }
   },
   "types_to_exclude": [
    "module",
    "function",
    "builtin_function_or_method",
    "instance",
    "_Feature"
   ],
   "window_display": true
  }
 },
 "nbformat": 4,
 "nbformat_minor": 5
}
